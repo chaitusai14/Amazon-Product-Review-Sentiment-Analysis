{
  "cells": [
    {
      "cell_type": "markdown",
      "id": "c1055084",
      "metadata": {
        "id": "c1055084"
      },
      "source": [
        "## Purpose\n",
        "\n",
        "Extracting Musical Instruments Review Data and Digital Music Review Data From json file For Data Pre-Processing"
      ]
    },
    {
      "cell_type": "markdown",
      "id": "2fd307ea",
      "metadata": {
        "id": "2fd307ea"
      },
      "source": [
        "# Data-Source\n",
        "\n",
        "'D:/Niit-std(material)/DS1/Course-17/Musical_Instruments_5.json' --  Musical Instruments\n",
        "\n",
        "\n",
        "'D:/Niit-std(material)/DS1/Course-17/Digital_Music_5.json' -- Digital Music "
      ]
    },
    {
      "cell_type": "markdown",
      "id": "18a68350",
      "metadata": {
        "id": "18a68350"
      },
      "source": [
        "# Sample review dataset:\n",
        "    \n",
        "\"reviewerID\": \"A2SUAM1J3GNN3B\", \n",
        "    \n",
        "\"asin\": \"0000013714\",  \n",
        "    \n",
        "\"reviewerName\": \"J. McDonald\",  \n",
        "    \n",
        "\"helpful\": [2, 3],  \n",
        "    \n",
        "\"reviewText\": \"I bought this for my husband who plays the piano.  He is having a wonderful time playing these old hymns.  The music  is at times hard to read because we think the book was published for singing from more than playing from.  Great purchase though!\",  \n",
        "\n",
        "\"overall\": 5.0,  \n",
        "    \n",
        "\"summary\": \"Heavenly Highway Hymns\",  \n",
        "    \n",
        "\"unixReviewTime\": 1252800000,  \n",
        "    \n",
        "\"reviewTime\": \"09 13, 2009\" "
      ]
    },
    {
      "cell_type": "code",
      "execution_count": null,
      "id": "a354a099",
      "metadata": {
        "id": "a354a099"
      },
      "outputs": [],
      "source": [
        "# Dataframe\n",
        "import pandas as pd\n",
        "\n",
        "# Array\n",
        "import numpy as np\n",
        "\n",
        "# Decompress the file\n",
        "import gzip\n",
        "\n",
        "# Visualizations\n",
        "import matplotlib.pyplot as plt\n",
        "from matplotlib.colors import ListedColormap\n",
        "import seaborn as sns\n",
        "import matplotlib.colors as colors\n",
        "%matplotlib inline\n",
        "\n",
        "# Datetime\n",
        "from datetime import datetime\n",
        "\n",
        "## Warnings\n",
        "import warnings\n",
        "from scipy import stats\n",
        "warnings.filterwarnings('ignore')\n",
        "\n",
        "# Large dataset\n",
        "import dask.bag as db"
      ]
    },
    {
      "cell_type": "markdown",
      "id": "516564c5",
      "metadata": {
        "id": "516564c5"
      },
      "source": [
        "### Load_Data"
      ]
    },
    {
      "cell_type": "code",
      "execution_count": null,
      "id": "41240c7a",
      "metadata": {
        "id": "41240c7a"
      },
      "outputs": [],
      "source": [
        "data_review_MI = pd.read_json('D:/Niit-std(material)/DS1/Course-17/Musical_Instruments_5.json', orient='records', lines=True)\n",
        "data_review_DM = pd.read_json('D:/Niit-std(material)/DS1/Course-17/Digital_Music_5.json', orient='records', lines=True)"
      ]
    },
    {
      "cell_type": "markdown",
      "source": [
        "#Musical Instruments"
      ],
      "metadata": {
        "id": "hgRCc4PFwx49"
      },
      "id": "hgRCc4PFwx49"
    },
    {
      "cell_type": "code",
      "execution_count": null,
      "id": "b3fed86b",
      "metadata": {
        "id": "b3fed86b",
        "outputId": "6e4b857c-8f41-41c0-a634-681c48c7cd7a"
      },
      "outputs": [
        {
          "data": {
            "text/html": [
              "<div>\n",
              "<style scoped>\n",
              "    .dataframe tbody tr th:only-of-type {\n",
              "        vertical-align: middle;\n",
              "    }\n",
              "\n",
              "    .dataframe tbody tr th {\n",
              "        vertical-align: top;\n",
              "    }\n",
              "\n",
              "    .dataframe thead th {\n",
              "        text-align: right;\n",
              "    }\n",
              "</style>\n",
              "<table border=\"1\" class=\"dataframe\">\n",
              "  <thead>\n",
              "    <tr style=\"text-align: right;\">\n",
              "      <th></th>\n",
              "      <th>reviewerID</th>\n",
              "      <th>asin</th>\n",
              "      <th>reviewerName</th>\n",
              "      <th>helpful</th>\n",
              "      <th>reviewText</th>\n",
              "      <th>overall</th>\n",
              "      <th>summary</th>\n",
              "      <th>unixReviewTime</th>\n",
              "      <th>reviewTime</th>\n",
              "    </tr>\n",
              "  </thead>\n",
              "  <tbody>\n",
              "    <tr>\n",
              "      <th>0</th>\n",
              "      <td>A2IBPI20UZIR0U</td>\n",
              "      <td>1384719342</td>\n",
              "      <td>cassandra tu \"Yeah, well, that's just like, u...</td>\n",
              "      <td>[0, 0]</td>\n",
              "      <td>Not much to write about here, but it does exac...</td>\n",
              "      <td>5</td>\n",
              "      <td>good</td>\n",
              "      <td>1393545600</td>\n",
              "      <td>02 28, 2014</td>\n",
              "    </tr>\n",
              "    <tr>\n",
              "      <th>1</th>\n",
              "      <td>A14VAT5EAX3D9S</td>\n",
              "      <td>1384719342</td>\n",
              "      <td>Jake</td>\n",
              "      <td>[13, 14]</td>\n",
              "      <td>The product does exactly as it should and is q...</td>\n",
              "      <td>5</td>\n",
              "      <td>Jake</td>\n",
              "      <td>1363392000</td>\n",
              "      <td>03 16, 2013</td>\n",
              "    </tr>\n",
              "    <tr>\n",
              "      <th>2</th>\n",
              "      <td>A195EZSQDW3E21</td>\n",
              "      <td>1384719342</td>\n",
              "      <td>Rick Bennette \"Rick Bennette\"</td>\n",
              "      <td>[1, 1]</td>\n",
              "      <td>The primary job of this device is to block the...</td>\n",
              "      <td>5</td>\n",
              "      <td>It Does The Job Well</td>\n",
              "      <td>1377648000</td>\n",
              "      <td>08 28, 2013</td>\n",
              "    </tr>\n",
              "    <tr>\n",
              "      <th>3</th>\n",
              "      <td>A2C00NNG1ZQQG2</td>\n",
              "      <td>1384719342</td>\n",
              "      <td>RustyBill \"Sunday Rocker\"</td>\n",
              "      <td>[0, 0]</td>\n",
              "      <td>Nice windscreen protects my MXL mic and preven...</td>\n",
              "      <td>5</td>\n",
              "      <td>GOOD WINDSCREEN FOR THE MONEY</td>\n",
              "      <td>1392336000</td>\n",
              "      <td>02 14, 2014</td>\n",
              "    </tr>\n",
              "    <tr>\n",
              "      <th>4</th>\n",
              "      <td>A94QU4C90B1AX</td>\n",
              "      <td>1384719342</td>\n",
              "      <td>SEAN MASLANKA</td>\n",
              "      <td>[0, 0]</td>\n",
              "      <td>This pop filter is great. It looks and perform...</td>\n",
              "      <td>5</td>\n",
              "      <td>No more pops when I record my vocals.</td>\n",
              "      <td>1392940800</td>\n",
              "      <td>02 21, 2014</td>\n",
              "    </tr>\n",
              "  </tbody>\n",
              "</table>\n",
              "</div>"
            ],
            "text/plain": [
              "       reviewerID        asin  \\\n",
              "0  A2IBPI20UZIR0U  1384719342   \n",
              "1  A14VAT5EAX3D9S  1384719342   \n",
              "2  A195EZSQDW3E21  1384719342   \n",
              "3  A2C00NNG1ZQQG2  1384719342   \n",
              "4   A94QU4C90B1AX  1384719342   \n",
              "\n",
              "                                       reviewerName   helpful  \\\n",
              "0  cassandra tu \"Yeah, well, that's just like, u...    [0, 0]   \n",
              "1                                              Jake  [13, 14]   \n",
              "2                     Rick Bennette \"Rick Bennette\"    [1, 1]   \n",
              "3                         RustyBill \"Sunday Rocker\"    [0, 0]   \n",
              "4                                     SEAN MASLANKA    [0, 0]   \n",
              "\n",
              "                                          reviewText  overall  \\\n",
              "0  Not much to write about here, but it does exac...        5   \n",
              "1  The product does exactly as it should and is q...        5   \n",
              "2  The primary job of this device is to block the...        5   \n",
              "3  Nice windscreen protects my MXL mic and preven...        5   \n",
              "4  This pop filter is great. It looks and perform...        5   \n",
              "\n",
              "                                 summary  unixReviewTime   reviewTime  \n",
              "0                                   good      1393545600  02 28, 2014  \n",
              "1                                   Jake      1363392000  03 16, 2013  \n",
              "2                   It Does The Job Well      1377648000  08 28, 2013  \n",
              "3          GOOD WINDSCREEN FOR THE MONEY      1392336000  02 14, 2014  \n",
              "4  No more pops when I record my vocals.      1392940800  02 21, 2014  "
            ]
          },
          "execution_count": 70,
          "metadata": {},
          "output_type": "execute_result"
        }
      ],
      "source": [
        "data_review_MI.head()"
      ]
    },
    {
      "cell_type": "code",
      "execution_count": null,
      "id": "8d6a8d27",
      "metadata": {
        "id": "8d6a8d27"
      },
      "outputs": [],
      "source": [
        "#data_review_MI.to_csv(r'D:/Niit-std(material)/DS1/data_review_MI.csv', index = False)"
      ]
    },
    {
      "cell_type": "code",
      "execution_count": null,
      "id": "6734add6",
      "metadata": {
        "id": "6734add6",
        "outputId": "c1398177-28f0-4229-ba0c-55a667e82287"
      },
      "outputs": [
        {
          "data": {
            "text/plain": [
              "(10261, 9)"
            ]
          },
          "execution_count": 72,
          "metadata": {},
          "output_type": "execute_result"
        }
      ],
      "source": [
        "data_review_MI.shape"
      ]
    },
    {
      "cell_type": "code",
      "execution_count": null,
      "id": "03d78632",
      "metadata": {
        "id": "03d78632",
        "outputId": "9a69d53d-8635-44a5-c5d5-694288ba5c9a"
      },
      "outputs": [
        {
          "name": "stdout",
          "output_type": "stream",
          "text": [
            "<class 'pandas.core.frame.DataFrame'>\n",
            "RangeIndex: 10261 entries, 0 to 10260\n",
            "Data columns (total 9 columns):\n",
            " #   Column          Non-Null Count  Dtype \n",
            "---  ------          --------------  ----- \n",
            " 0   reviewerID      10261 non-null  object\n",
            " 1   asin            10261 non-null  object\n",
            " 2   reviewerName    10234 non-null  object\n",
            " 3   helpful         10261 non-null  object\n",
            " 4   reviewText      10261 non-null  object\n",
            " 5   overall         10261 non-null  int64 \n",
            " 6   summary         10261 non-null  object\n",
            " 7   unixReviewTime  10261 non-null  int64 \n",
            " 8   reviewTime      10261 non-null  object\n",
            "dtypes: int64(2), object(7)\n",
            "memory usage: 721.6+ KB\n"
          ]
        }
      ],
      "source": [
        "data_review_MI.info()"
      ]
    },
    {
      "cell_type": "markdown",
      "id": "92df887c",
      "metadata": {
        "id": "92df887c"
      },
      "source": [
        "### Checking For Null Values"
      ]
    },
    {
      "cell_type": "code",
      "execution_count": null,
      "id": "ee6e74e2",
      "metadata": {
        "id": "ee6e74e2",
        "outputId": "d03fecaa-26eb-440b-f747-0d7e0f14d812"
      },
      "outputs": [
        {
          "data": {
            "text/plain": [
              "reviewerID         0\n",
              "asin               0\n",
              "reviewerName      27\n",
              "helpful            0\n",
              "reviewText         0\n",
              "overall            0\n",
              "summary            0\n",
              "unixReviewTime     0\n",
              "reviewTime         0\n",
              "dtype: int64"
            ]
          },
          "execution_count": 74,
          "metadata": {},
          "output_type": "execute_result"
        }
      ],
      "source": [
        "data_review_MI.isnull().sum()"
      ]
    },
    {
      "cell_type": "code",
      "execution_count": null,
      "id": "6ac9b178",
      "metadata": {
        "id": "6ac9b178"
      },
      "outputs": [],
      "source": [
        "#data_review_DM.to_csv(r'D:/Niit-std(material)/DS1/data_review_DM.csv', index = False)"
      ]
    },
    {
      "cell_type": "code",
      "execution_count": null,
      "id": "6ffa23ff",
      "metadata": {
        "id": "6ffa23ff",
        "outputId": "3e89c3d9-aaba-45e3-98c6-5cff86a2fd97"
      },
      "outputs": [
        {
          "data": {
            "text/plain": [
              "(64706, 9)"
            ]
          },
          "execution_count": 77,
          "metadata": {},
          "output_type": "execute_result"
        }
      ],
      "source": [
        "data_review_DM.shape"
      ]
    },
    {
      "cell_type": "code",
      "execution_count": null,
      "id": "44f4bb08",
      "metadata": {
        "id": "44f4bb08",
        "outputId": "90886a79-2fea-4906-c93a-b4bcdb4b610a"
      },
      "outputs": [
        {
          "name": "stdout",
          "output_type": "stream",
          "text": [
            "<class 'pandas.core.frame.DataFrame'>\n",
            "RangeIndex: 64706 entries, 0 to 64705\n",
            "Data columns (total 9 columns):\n",
            " #   Column          Non-Null Count  Dtype \n",
            "---  ------          --------------  ----- \n",
            " 0   reviewerID      64706 non-null  object\n",
            " 1   asin            64706 non-null  object\n",
            " 2   reviewerName    64529 non-null  object\n",
            " 3   helpful         64706 non-null  object\n",
            " 4   reviewText      64706 non-null  object\n",
            " 5   overall         64706 non-null  int64 \n",
            " 6   summary         64706 non-null  object\n",
            " 7   unixReviewTime  64706 non-null  int64 \n",
            " 8   reviewTime      64706 non-null  object\n",
            "dtypes: int64(2), object(7)\n",
            "memory usage: 4.4+ MB\n"
          ]
        }
      ],
      "source": [
        "data_review_DM.info()"
      ]
    },
    {
      "cell_type": "code",
      "execution_count": null,
      "id": "cd47ed4c",
      "metadata": {
        "id": "cd47ed4c",
        "outputId": "58564411-512c-4e99-d7a2-b8455c140a14"
      },
      "outputs": [
        {
          "data": {
            "text/plain": [
              "reviewerID          0\n",
              "asin                0\n",
              "reviewerName      177\n",
              "helpful             0\n",
              "reviewText          0\n",
              "overall             0\n",
              "summary             0\n",
              "unixReviewTime      0\n",
              "reviewTime          0\n",
              "dtype: int64"
            ]
          },
          "execution_count": 79,
          "metadata": {},
          "output_type": "execute_result"
        }
      ],
      "source": [
        "data_review_DM.isnull().sum()"
      ]
    },
    {
      "cell_type": "markdown",
      "id": "a909ce72",
      "metadata": {
        "id": "a909ce72"
      },
      "source": [
        "### Changing Column Names "
      ]
    },
    {
      "cell_type": "code",
      "execution_count": null,
      "id": "6bfdb206",
      "metadata": {
        "id": "6bfdb206",
        "outputId": "08f6870c-ebe5-4eea-d255-a0454441e802"
      },
      "outputs": [
        {
          "name": "stdout",
          "output_type": "stream",
          "text": [
            "<class 'pandas.core.frame.DataFrame'>\n",
            "RangeIndex: 64706 entries, 0 to 64705\n",
            "Data columns (total 9 columns):\n",
            " #   Column            Non-Null Count  Dtype \n",
            "---  ------            --------------  ----- \n",
            " 0   Reviewer_ID       64706 non-null  object\n",
            " 1   asin              64706 non-null  object\n",
            " 2   Reviewer_Name     64529 non-null  object\n",
            " 3   helpful           64706 non-null  object\n",
            " 4   Review_Text       64706 non-null  object\n",
            " 5   Rating            64706 non-null  int64 \n",
            " 6   summary           64706 non-null  object\n",
            " 7   Unix_Review_Time  64706 non-null  int64 \n",
            " 8   Review_Time       64706 non-null  object\n",
            "dtypes: int64(2), object(7)\n",
            "memory usage: 4.4+ MB\n"
          ]
        }
      ],
      "source": [
        "# change column name \n",
        "data_review_DM = data_review_DM.rename(columns={'overall': 'Rating','reviewerID': 'Reviewer_ID','reviewerName': 'Reviewer_Name','reviewText': 'Review_Text','unixReviewTime': 'Unix_Review_Time','reviewTime': 'Review_Time'})\n",
        "\n",
        "data_review_DM.info()"
      ]
    },
    {
      "cell_type": "code",
      "execution_count": null,
      "id": "9e7d9cb5",
      "metadata": {
        "id": "9e7d9cb5",
        "outputId": "33c5a2ce-26d9-47b2-ad20-70a2ec080ba4"
      },
      "outputs": [
        {
          "name": "stdout",
          "output_type": "stream",
          "text": [
            "<class 'pandas.core.frame.DataFrame'>\n",
            "RangeIndex: 10261 entries, 0 to 10260\n",
            "Data columns (total 9 columns):\n",
            " #   Column            Non-Null Count  Dtype \n",
            "---  ------            --------------  ----- \n",
            " 0   Reviewer_ID       10261 non-null  object\n",
            " 1   asin              10261 non-null  object\n",
            " 2   Reviewer_Name     10234 non-null  object\n",
            " 3   helpful           10261 non-null  object\n",
            " 4   Review_Text       10261 non-null  object\n",
            " 5   Rating            10261 non-null  int64 \n",
            " 6   summary           10261 non-null  object\n",
            " 7   Unix_Review_Time  10261 non-null  int64 \n",
            " 8   Review_Time       10261 non-null  object\n",
            "dtypes: int64(2), object(7)\n",
            "memory usage: 721.6+ KB\n"
          ]
        }
      ],
      "source": [
        "# change column name \n",
        "data_review_MI = data_review_MI.rename(columns={'overall': 'Rating','reviewerID': 'Reviewer_ID','reviewerName': 'Reviewer_Name','reviewText': 'Review_Text','unixReviewTime': 'Unix_Review_Time','reviewTime': 'Review_Time'})\n",
        "\n",
        "data_review_MI.info()"
      ]
    },
    {
      "cell_type": "markdown",
      "id": "1021607a",
      "metadata": {
        "id": "1021607a"
      },
      "source": [
        "### Dropping Null Values From The Feature 'Reviewer_Name'"
      ]
    },
    {
      "cell_type": "code",
      "execution_count": null,
      "id": "f50c92e6",
      "metadata": {
        "id": "f50c92e6",
        "outputId": "15793704-5105-4a1f-c607-5825451678f6"
      },
      "outputs": [
        {
          "data": {
            "text/html": [
              "<div>\n",
              "<style scoped>\n",
              "    .dataframe tbody tr th:only-of-type {\n",
              "        vertical-align: middle;\n",
              "    }\n",
              "\n",
              "    .dataframe tbody tr th {\n",
              "        vertical-align: top;\n",
              "    }\n",
              "\n",
              "    .dataframe thead th {\n",
              "        text-align: right;\n",
              "    }\n",
              "</style>\n",
              "<table border=\"1\" class=\"dataframe\">\n",
              "  <thead>\n",
              "    <tr style=\"text-align: right;\">\n",
              "      <th></th>\n",
              "      <th>Reviewer_ID</th>\n",
              "      <th>asin</th>\n",
              "      <th>Reviewer_Name</th>\n",
              "      <th>helpful</th>\n",
              "      <th>Review_Text</th>\n",
              "      <th>Rating</th>\n",
              "      <th>summary</th>\n",
              "      <th>Unix_Review_Time</th>\n",
              "      <th>Review_Time</th>\n",
              "    </tr>\n",
              "  </thead>\n",
              "  <tbody>\n",
              "    <tr>\n",
              "      <th>0</th>\n",
              "      <td>A2IBPI20UZIR0U</td>\n",
              "      <td>1384719342</td>\n",
              "      <td>cassandra tu \"Yeah, well, that's just like, u...</td>\n",
              "      <td>[0, 0]</td>\n",
              "      <td>Not much to write about here, but it does exac...</td>\n",
              "      <td>5</td>\n",
              "      <td>good</td>\n",
              "      <td>1393545600</td>\n",
              "      <td>02 28, 2014</td>\n",
              "    </tr>\n",
              "    <tr>\n",
              "      <th>1</th>\n",
              "      <td>A14VAT5EAX3D9S</td>\n",
              "      <td>1384719342</td>\n",
              "      <td>Jake</td>\n",
              "      <td>[13, 14]</td>\n",
              "      <td>The product does exactly as it should and is q...</td>\n",
              "      <td>5</td>\n",
              "      <td>Jake</td>\n",
              "      <td>1363392000</td>\n",
              "      <td>03 16, 2013</td>\n",
              "    </tr>\n",
              "    <tr>\n",
              "      <th>2</th>\n",
              "      <td>A195EZSQDW3E21</td>\n",
              "      <td>1384719342</td>\n",
              "      <td>Rick Bennette \"Rick Bennette\"</td>\n",
              "      <td>[1, 1]</td>\n",
              "      <td>The primary job of this device is to block the...</td>\n",
              "      <td>5</td>\n",
              "      <td>It Does The Job Well</td>\n",
              "      <td>1377648000</td>\n",
              "      <td>08 28, 2013</td>\n",
              "    </tr>\n",
              "    <tr>\n",
              "      <th>3</th>\n",
              "      <td>A2C00NNG1ZQQG2</td>\n",
              "      <td>1384719342</td>\n",
              "      <td>RustyBill \"Sunday Rocker\"</td>\n",
              "      <td>[0, 0]</td>\n",
              "      <td>Nice windscreen protects my MXL mic and preven...</td>\n",
              "      <td>5</td>\n",
              "      <td>GOOD WINDSCREEN FOR THE MONEY</td>\n",
              "      <td>1392336000</td>\n",
              "      <td>02 14, 2014</td>\n",
              "    </tr>\n",
              "    <tr>\n",
              "      <th>4</th>\n",
              "      <td>A94QU4C90B1AX</td>\n",
              "      <td>1384719342</td>\n",
              "      <td>SEAN MASLANKA</td>\n",
              "      <td>[0, 0]</td>\n",
              "      <td>This pop filter is great. It looks and perform...</td>\n",
              "      <td>5</td>\n",
              "      <td>No more pops when I record my vocals.</td>\n",
              "      <td>1392940800</td>\n",
              "      <td>02 21, 2014</td>\n",
              "    </tr>\n",
              "  </tbody>\n",
              "</table>\n",
              "</div>"
            ],
            "text/plain": [
              "      Reviewer_ID        asin  \\\n",
              "0  A2IBPI20UZIR0U  1384719342   \n",
              "1  A14VAT5EAX3D9S  1384719342   \n",
              "2  A195EZSQDW3E21  1384719342   \n",
              "3  A2C00NNG1ZQQG2  1384719342   \n",
              "4   A94QU4C90B1AX  1384719342   \n",
              "\n",
              "                                      Reviewer_Name   helpful  \\\n",
              "0  cassandra tu \"Yeah, well, that's just like, u...    [0, 0]   \n",
              "1                                              Jake  [13, 14]   \n",
              "2                     Rick Bennette \"Rick Bennette\"    [1, 1]   \n",
              "3                         RustyBill \"Sunday Rocker\"    [0, 0]   \n",
              "4                                     SEAN MASLANKA    [0, 0]   \n",
              "\n",
              "                                         Review_Text  Rating  \\\n",
              "0  Not much to write about here, but it does exac...       5   \n",
              "1  The product does exactly as it should and is q...       5   \n",
              "2  The primary job of this device is to block the...       5   \n",
              "3  Nice windscreen protects my MXL mic and preven...       5   \n",
              "4  This pop filter is great. It looks and perform...       5   \n",
              "\n",
              "                                 summary  Unix_Review_Time  Review_Time  \n",
              "0                                   good        1393545600  02 28, 2014  \n",
              "1                                   Jake        1363392000  03 16, 2013  \n",
              "2                   It Does The Job Well        1377648000  08 28, 2013  \n",
              "3          GOOD WINDSCREEN FOR THE MONEY        1392336000  02 14, 2014  \n",
              "4  No more pops when I record my vocals.        1392940800  02 21, 2014  "
            ]
          },
          "execution_count": 130,
          "metadata": {},
          "output_type": "execute_result"
        }
      ],
      "source": [
        "data_review_MI = data_review_MI.dropna(subset = ['Reviewer_Name'])\n",
        "data_review_MI.head()"
      ]
    },
    {
      "cell_type": "code",
      "execution_count": null,
      "id": "a06f24ec",
      "metadata": {
        "id": "a06f24ec",
        "outputId": "d2e23894-b04d-4c31-d877-3373eaa3d1ce"
      },
      "outputs": [
        {
          "data": {
            "text/plain": [
              "(10234, 9)"
            ]
          },
          "execution_count": 131,
          "metadata": {},
          "output_type": "execute_result"
        }
      ],
      "source": [
        "data_review_MI.shape"
      ]
    },
    {
      "cell_type": "code",
      "execution_count": null,
      "id": "89a437c2",
      "metadata": {
        "id": "89a437c2",
        "outputId": "7c8e6811-1df4-472c-caa6-854918e8094b"
      },
      "outputs": [
        {
          "name": "stdout",
          "output_type": "stream",
          "text": [
            "<class 'pandas.core.frame.DataFrame'>\n",
            "Int64Index: 10234 entries, 0 to 10260\n",
            "Data columns (total 9 columns):\n",
            " #   Column            Non-Null Count  Dtype \n",
            "---  ------            --------------  ----- \n",
            " 0   Reviewer_ID       10234 non-null  object\n",
            " 1   asin              10234 non-null  object\n",
            " 2   Reviewer_Name     10234 non-null  object\n",
            " 3   helpful           10234 non-null  object\n",
            " 4   Review_Text       10234 non-null  object\n",
            " 5   Rating            10234 non-null  int64 \n",
            " 6   summary           10234 non-null  object\n",
            " 7   Unix_Review_Time  10234 non-null  int64 \n",
            " 8   Review_Time       10234 non-null  object\n",
            "dtypes: int64(2), object(7)\n",
            "memory usage: 799.5+ KB\n"
          ]
        }
      ],
      "source": [
        "data_review_MI.info()"
      ]
    },
    {
      "cell_type": "code",
      "execution_count": null,
      "id": "2de98603",
      "metadata": {
        "id": "2de98603",
        "outputId": "ea53d7e0-3092-4e24-ae34-156eebc78a6f"
      },
      "outputs": [
        {
          "data": {
            "text/plain": [
              "Reviewer_ID         0\n",
              "asin                0\n",
              "Reviewer_Name       0\n",
              "helpful             0\n",
              "Review_Text         0\n",
              "Rating              0\n",
              "summary             0\n",
              "Unix_Review_Time    0\n",
              "Review_Time         0\n",
              "dtype: int64"
            ]
          },
          "execution_count": 85,
          "metadata": {},
          "output_type": "execute_result"
        }
      ],
      "source": [
        "data_review_MI.isnull().sum()"
      ]
    },
    {
      "cell_type": "markdown",
      "id": "3721b10e",
      "metadata": {
        "id": "3721b10e"
      },
      "source": [
        "### Convert 'Review_Time' Object To DateTime"
      ]
    },
    {
      "cell_type": "code",
      "execution_count": null,
      "id": "9095e791",
      "metadata": {
        "id": "9095e791",
        "outputId": "8b71358a-b704-4059-fd69-b6b4cb9bd767"
      },
      "outputs": [
        {
          "data": {
            "text/html": [
              "<div>\n",
              "<style scoped>\n",
              "    .dataframe tbody tr th:only-of-type {\n",
              "        vertical-align: middle;\n",
              "    }\n",
              "\n",
              "    .dataframe tbody tr th {\n",
              "        vertical-align: top;\n",
              "    }\n",
              "\n",
              "    .dataframe thead th {\n",
              "        text-align: right;\n",
              "    }\n",
              "</style>\n",
              "<table border=\"1\" class=\"dataframe\">\n",
              "  <thead>\n",
              "    <tr style=\"text-align: right;\">\n",
              "      <th></th>\n",
              "      <th>Reviewer_ID</th>\n",
              "      <th>asin</th>\n",
              "      <th>Reviewer_Name</th>\n",
              "      <th>helpful</th>\n",
              "      <th>Review_Text</th>\n",
              "      <th>Rating</th>\n",
              "      <th>summary</th>\n",
              "      <th>Unix_Review_Time</th>\n",
              "      <th>Review_Time</th>\n",
              "    </tr>\n",
              "  </thead>\n",
              "  <tbody>\n",
              "    <tr>\n",
              "      <th>0</th>\n",
              "      <td>A2IBPI20UZIR0U</td>\n",
              "      <td>1384719342</td>\n",
              "      <td>cassandra tu \"Yeah, well, that's just like, u...</td>\n",
              "      <td>[0, 0]</td>\n",
              "      <td>Not much to write about here, but it does exac...</td>\n",
              "      <td>5</td>\n",
              "      <td>good</td>\n",
              "      <td>1393545600</td>\n",
              "      <td>2014-02-28</td>\n",
              "    </tr>\n",
              "    <tr>\n",
              "      <th>1</th>\n",
              "      <td>A14VAT5EAX3D9S</td>\n",
              "      <td>1384719342</td>\n",
              "      <td>Jake</td>\n",
              "      <td>[13, 14]</td>\n",
              "      <td>The product does exactly as it should and is q...</td>\n",
              "      <td>5</td>\n",
              "      <td>Jake</td>\n",
              "      <td>1363392000</td>\n",
              "      <td>2013-03-16</td>\n",
              "    </tr>\n",
              "    <tr>\n",
              "      <th>2</th>\n",
              "      <td>A195EZSQDW3E21</td>\n",
              "      <td>1384719342</td>\n",
              "      <td>Rick Bennette \"Rick Bennette\"</td>\n",
              "      <td>[1, 1]</td>\n",
              "      <td>The primary job of this device is to block the...</td>\n",
              "      <td>5</td>\n",
              "      <td>It Does The Job Well</td>\n",
              "      <td>1377648000</td>\n",
              "      <td>2013-08-28</td>\n",
              "    </tr>\n",
              "    <tr>\n",
              "      <th>3</th>\n",
              "      <td>A2C00NNG1ZQQG2</td>\n",
              "      <td>1384719342</td>\n",
              "      <td>RustyBill \"Sunday Rocker\"</td>\n",
              "      <td>[0, 0]</td>\n",
              "      <td>Nice windscreen protects my MXL mic and preven...</td>\n",
              "      <td>5</td>\n",
              "      <td>GOOD WINDSCREEN FOR THE MONEY</td>\n",
              "      <td>1392336000</td>\n",
              "      <td>2014-02-14</td>\n",
              "    </tr>\n",
              "    <tr>\n",
              "      <th>4</th>\n",
              "      <td>A94QU4C90B1AX</td>\n",
              "      <td>1384719342</td>\n",
              "      <td>SEAN MASLANKA</td>\n",
              "      <td>[0, 0]</td>\n",
              "      <td>This pop filter is great. It looks and perform...</td>\n",
              "      <td>5</td>\n",
              "      <td>No more pops when I record my vocals.</td>\n",
              "      <td>1392940800</td>\n",
              "      <td>2014-02-21</td>\n",
              "    </tr>\n",
              "  </tbody>\n",
              "</table>\n",
              "</div>"
            ],
            "text/plain": [
              "      Reviewer_ID        asin  \\\n",
              "0  A2IBPI20UZIR0U  1384719342   \n",
              "1  A14VAT5EAX3D9S  1384719342   \n",
              "2  A195EZSQDW3E21  1384719342   \n",
              "3  A2C00NNG1ZQQG2  1384719342   \n",
              "4   A94QU4C90B1AX  1384719342   \n",
              "\n",
              "                                      Reviewer_Name   helpful  \\\n",
              "0  cassandra tu \"Yeah, well, that's just like, u...    [0, 0]   \n",
              "1                                              Jake  [13, 14]   \n",
              "2                     Rick Bennette \"Rick Bennette\"    [1, 1]   \n",
              "3                         RustyBill \"Sunday Rocker\"    [0, 0]   \n",
              "4                                     SEAN MASLANKA    [0, 0]   \n",
              "\n",
              "                                         Review_Text  Rating  \\\n",
              "0  Not much to write about here, but it does exac...       5   \n",
              "1  The product does exactly as it should and is q...       5   \n",
              "2  The primary job of this device is to block the...       5   \n",
              "3  Nice windscreen protects my MXL mic and preven...       5   \n",
              "4  This pop filter is great. It looks and perform...       5   \n",
              "\n",
              "                                 summary  Unix_Review_Time Review_Time  \n",
              "0                                   good        1393545600  2014-02-28  \n",
              "1                                   Jake        1363392000  2013-03-16  \n",
              "2                   It Does The Job Well        1377648000  2013-08-28  \n",
              "3          GOOD WINDSCREEN FOR THE MONEY        1392336000  2014-02-14  \n",
              "4  No more pops when I record my vocals.        1392940800  2014-02-21  "
            ]
          },
          "execution_count": 86,
          "metadata": {},
          "output_type": "execute_result"
        }
      ],
      "source": [
        "data_review_MI['Review_Time'] = pd.to_datetime(data_review_MI['Review_Time'])\n",
        "data_review_MI.head()"
      ]
    },
    {
      "cell_type": "code",
      "execution_count": null,
      "id": "2f22d42d",
      "metadata": {
        "id": "2f22d42d",
        "outputId": "77400ea6-8814-4154-943c-795f38337bba"
      },
      "outputs": [
        {
          "data": {
            "text/plain": [
              "array(['good', 'Jake', 'It Does The Job Well', ..., 'Good for coated.',\n",
              "       'Taylor Made',\n",
              "       \"These strings are really quite good, but I wouldn't call them perfect\"],\n",
              "      dtype=object)"
            ]
          },
          "execution_count": 87,
          "metadata": {},
          "output_type": "execute_result"
        }
      ],
      "source": [
        "data_review_MI.summary.unique()"
      ]
    },
    {
      "cell_type": "markdown",
      "id": "c1c519ee",
      "metadata": {
        "id": "c1c519ee"
      },
      "source": [
        "### Split 'helpful' Column Into 'Review_Likes' and 'Review_Dislikes' and Drop It At The End"
      ]
    },
    {
      "cell_type": "code",
      "execution_count": null,
      "id": "4979a43b",
      "metadata": {
        "id": "4979a43b",
        "outputId": "11ccc448-4b1c-4b63-910d-12abb8bf2a05"
      },
      "outputs": [
        {
          "data": {
            "text/html": [
              "<div>\n",
              "<style scoped>\n",
              "    .dataframe tbody tr th:only-of-type {\n",
              "        vertical-align: middle;\n",
              "    }\n",
              "\n",
              "    .dataframe tbody tr th {\n",
              "        vertical-align: top;\n",
              "    }\n",
              "\n",
              "    .dataframe thead th {\n",
              "        text-align: right;\n",
              "    }\n",
              "</style>\n",
              "<table border=\"1\" class=\"dataframe\">\n",
              "  <thead>\n",
              "    <tr style=\"text-align: right;\">\n",
              "      <th></th>\n",
              "      <th>Reviewer_ID</th>\n",
              "      <th>asin</th>\n",
              "      <th>Reviewer_Name</th>\n",
              "      <th>Review_Text</th>\n",
              "      <th>Rating</th>\n",
              "      <th>summary</th>\n",
              "      <th>Unix_Review_Time</th>\n",
              "      <th>Review_Time</th>\n",
              "      <th>Review_Likes</th>\n",
              "      <th>Review_Dislikes</th>\n",
              "    </tr>\n",
              "  </thead>\n",
              "  <tbody>\n",
              "    <tr>\n",
              "      <th>0</th>\n",
              "      <td>A2IBPI20UZIR0U</td>\n",
              "      <td>1384719342</td>\n",
              "      <td>cassandra tu \"Yeah, well, that's just like, u...</td>\n",
              "      <td>Not much to write about here, but it does exac...</td>\n",
              "      <td>5</td>\n",
              "      <td>good</td>\n",
              "      <td>1393545600</td>\n",
              "      <td>2014-02-28</td>\n",
              "      <td>0</td>\n",
              "      <td>0</td>\n",
              "    </tr>\n",
              "    <tr>\n",
              "      <th>1</th>\n",
              "      <td>A14VAT5EAX3D9S</td>\n",
              "      <td>1384719342</td>\n",
              "      <td>Jake</td>\n",
              "      <td>The product does exactly as it should and is q...</td>\n",
              "      <td>5</td>\n",
              "      <td>Jake</td>\n",
              "      <td>1363392000</td>\n",
              "      <td>2013-03-16</td>\n",
              "      <td>13</td>\n",
              "      <td>1</td>\n",
              "    </tr>\n",
              "    <tr>\n",
              "      <th>2</th>\n",
              "      <td>A195EZSQDW3E21</td>\n",
              "      <td>1384719342</td>\n",
              "      <td>Rick Bennette \"Rick Bennette\"</td>\n",
              "      <td>The primary job of this device is to block the...</td>\n",
              "      <td>5</td>\n",
              "      <td>It Does The Job Well</td>\n",
              "      <td>1377648000</td>\n",
              "      <td>2013-08-28</td>\n",
              "      <td>1</td>\n",
              "      <td>0</td>\n",
              "    </tr>\n",
              "    <tr>\n",
              "      <th>3</th>\n",
              "      <td>A2C00NNG1ZQQG2</td>\n",
              "      <td>1384719342</td>\n",
              "      <td>RustyBill \"Sunday Rocker\"</td>\n",
              "      <td>Nice windscreen protects my MXL mic and preven...</td>\n",
              "      <td>5</td>\n",
              "      <td>GOOD WINDSCREEN FOR THE MONEY</td>\n",
              "      <td>1392336000</td>\n",
              "      <td>2014-02-14</td>\n",
              "      <td>0</td>\n",
              "      <td>0</td>\n",
              "    </tr>\n",
              "    <tr>\n",
              "      <th>4</th>\n",
              "      <td>A94QU4C90B1AX</td>\n",
              "      <td>1384719342</td>\n",
              "      <td>SEAN MASLANKA</td>\n",
              "      <td>This pop filter is great. It looks and perform...</td>\n",
              "      <td>5</td>\n",
              "      <td>No more pops when I record my vocals.</td>\n",
              "      <td>1392940800</td>\n",
              "      <td>2014-02-21</td>\n",
              "      <td>0</td>\n",
              "      <td>0</td>\n",
              "    </tr>\n",
              "  </tbody>\n",
              "</table>\n",
              "</div>"
            ],
            "text/plain": [
              "      Reviewer_ID        asin  \\\n",
              "0  A2IBPI20UZIR0U  1384719342   \n",
              "1  A14VAT5EAX3D9S  1384719342   \n",
              "2  A195EZSQDW3E21  1384719342   \n",
              "3  A2C00NNG1ZQQG2  1384719342   \n",
              "4   A94QU4C90B1AX  1384719342   \n",
              "\n",
              "                                      Reviewer_Name  \\\n",
              "0  cassandra tu \"Yeah, well, that's just like, u...   \n",
              "1                                              Jake   \n",
              "2                     Rick Bennette \"Rick Bennette\"   \n",
              "3                         RustyBill \"Sunday Rocker\"   \n",
              "4                                     SEAN MASLANKA   \n",
              "\n",
              "                                         Review_Text  Rating  \\\n",
              "0  Not much to write about here, but it does exac...       5   \n",
              "1  The product does exactly as it should and is q...       5   \n",
              "2  The primary job of this device is to block the...       5   \n",
              "3  Nice windscreen protects my MXL mic and preven...       5   \n",
              "4  This pop filter is great. It looks and perform...       5   \n",
              "\n",
              "                                 summary  Unix_Review_Time Review_Time  \\\n",
              "0                                   good        1393545600  2014-02-28   \n",
              "1                                   Jake        1363392000  2013-03-16   \n",
              "2                   It Does The Job Well        1377648000  2013-08-28   \n",
              "3          GOOD WINDSCREEN FOR THE MONEY        1392336000  2014-02-14   \n",
              "4  No more pops when I record my vocals.        1392940800  2014-02-21   \n",
              "\n",
              "   Review_Likes  Review_Dislikes  \n",
              "0             0                0  \n",
              "1            13                1  \n",
              "2             1                0  \n",
              "3             0                0  \n",
              "4             0                0  "
            ]
          },
          "execution_count": 88,
          "metadata": {},
          "output_type": "execute_result"
        }
      ],
      "source": [
        "list_likes = []\n",
        "list_dislikes = []\n",
        "for x in data_review_MI['helpful']:\n",
        "    list_likes.append(x[0])\n",
        "    list_dislikes.append(x[1] - x[0])\n",
        "data_review_MI['Review_Likes'] = list_likes\n",
        "data_review_MI['Review_Dislikes'] = list_dislikes\n",
        "data_review_MI = data_review_MI.drop('helpful', axis = 1)\n",
        "data_review_MI.head()"
      ]
    },
    {
      "cell_type": "code",
      "execution_count": null,
      "id": "14e95c09",
      "metadata": {
        "id": "14e95c09",
        "outputId": "16e8b642-b910-4f45-b8e9-e8c0ceb3a372"
      },
      "outputs": [
        {
          "data": {
            "text/plain": [
              "array([5, 3, 4, 2, 1], dtype=int64)"
            ]
          },
          "execution_count": 89,
          "metadata": {},
          "output_type": "execute_result"
        }
      ],
      "source": [
        "data_review_MI.Rating.unique()"
      ]
    },
    {
      "cell_type": "markdown",
      "id": "98a2ab2c",
      "metadata": {
        "id": "98a2ab2c"
      },
      "source": [
        "### Classifying Ratings as 'good','bad','neutral'"
      ]
    },
    {
      "cell_type": "code",
      "execution_count": null,
      "id": "6d98044d",
      "metadata": {
        "id": "6d98044d",
        "outputId": "c5206c85-1f0c-4f60-8462-029ce48e5398"
      },
      "outputs": [
        {
          "name": "stdout",
          "output_type": "stream",
          "text": [
            "Good ratings : 8998 are having positive reviews\n",
            "neutral ratings : 771 are having neutral reviews\n",
            "Bad ratings : 465 are having negative reviews\n"
          ]
        }
      ],
      "source": [
        "good_rate = len(data_review_MI[data_review_MI['Rating'] > 3])\n",
        "neutral_rate = len(data_review_MI[data_review_MI['Rating'] == 3])\n",
        "bad_rate = len(data_review_MI[data_review_MI['Rating'] < 3])\n",
        "\n",
        "# Printing rates and their total numbers\n",
        "print ('Good ratings : {} are having positive reviews'.format(good_rate))\n",
        "print ('neutral ratings : {} are having neutral reviews'.format(neutral_rate))\n",
        "print ('Bad ratings : {} are having negative reviews'.format(bad_rate))"
      ]
    },
    {
      "cell_type": "code",
      "execution_count": null,
      "id": "adcfe4ac",
      "metadata": {
        "id": "adcfe4ac",
        "outputId": "df2c7f33-29f3-41fe-eae6-87a61b416325"
      },
      "outputs": [
        {
          "data": {
            "text/html": [
              "<div>\n",
              "<style scoped>\n",
              "    .dataframe tbody tr th:only-of-type {\n",
              "        vertical-align: middle;\n",
              "    }\n",
              "\n",
              "    .dataframe tbody tr th {\n",
              "        vertical-align: top;\n",
              "    }\n",
              "\n",
              "    .dataframe thead th {\n",
              "        text-align: right;\n",
              "    }\n",
              "</style>\n",
              "<table border=\"1\" class=\"dataframe\">\n",
              "  <thead>\n",
              "    <tr style=\"text-align: right;\">\n",
              "      <th></th>\n",
              "      <th>Reviewer_ID</th>\n",
              "      <th>asin</th>\n",
              "      <th>Reviewer_Name</th>\n",
              "      <th>Review_Text</th>\n",
              "      <th>Rating</th>\n",
              "      <th>summary</th>\n",
              "      <th>Unix_Review_Time</th>\n",
              "      <th>Review_Time</th>\n",
              "      <th>Review_Likes</th>\n",
              "      <th>Review_Dislikes</th>\n",
              "      <th>Rating_Category</th>\n",
              "    </tr>\n",
              "  </thead>\n",
              "  <tbody>\n",
              "    <tr>\n",
              "      <th>0</th>\n",
              "      <td>A2IBPI20UZIR0U</td>\n",
              "      <td>1384719342</td>\n",
              "      <td>cassandra tu \"Yeah, well, that's just like, u...</td>\n",
              "      <td>Not much to write about here, but it does exac...</td>\n",
              "      <td>5</td>\n",
              "      <td>good</td>\n",
              "      <td>1393545600</td>\n",
              "      <td>2014-02-28</td>\n",
              "      <td>0</td>\n",
              "      <td>0</td>\n",
              "      <td>good</td>\n",
              "    </tr>\n",
              "    <tr>\n",
              "      <th>1</th>\n",
              "      <td>A14VAT5EAX3D9S</td>\n",
              "      <td>1384719342</td>\n",
              "      <td>Jake</td>\n",
              "      <td>The product does exactly as it should and is q...</td>\n",
              "      <td>5</td>\n",
              "      <td>Jake</td>\n",
              "      <td>1363392000</td>\n",
              "      <td>2013-03-16</td>\n",
              "      <td>13</td>\n",
              "      <td>1</td>\n",
              "      <td>good</td>\n",
              "    </tr>\n",
              "    <tr>\n",
              "      <th>2</th>\n",
              "      <td>A195EZSQDW3E21</td>\n",
              "      <td>1384719342</td>\n",
              "      <td>Rick Bennette \"Rick Bennette\"</td>\n",
              "      <td>The primary job of this device is to block the...</td>\n",
              "      <td>5</td>\n",
              "      <td>It Does The Job Well</td>\n",
              "      <td>1377648000</td>\n",
              "      <td>2013-08-28</td>\n",
              "      <td>1</td>\n",
              "      <td>0</td>\n",
              "      <td>good</td>\n",
              "    </tr>\n",
              "    <tr>\n",
              "      <th>3</th>\n",
              "      <td>A2C00NNG1ZQQG2</td>\n",
              "      <td>1384719342</td>\n",
              "      <td>RustyBill \"Sunday Rocker\"</td>\n",
              "      <td>Nice windscreen protects my MXL mic and preven...</td>\n",
              "      <td>5</td>\n",
              "      <td>GOOD WINDSCREEN FOR THE MONEY</td>\n",
              "      <td>1392336000</td>\n",
              "      <td>2014-02-14</td>\n",
              "      <td>0</td>\n",
              "      <td>0</td>\n",
              "      <td>good</td>\n",
              "    </tr>\n",
              "    <tr>\n",
              "      <th>4</th>\n",
              "      <td>A94QU4C90B1AX</td>\n",
              "      <td>1384719342</td>\n",
              "      <td>SEAN MASLANKA</td>\n",
              "      <td>This pop filter is great. It looks and perform...</td>\n",
              "      <td>5</td>\n",
              "      <td>No more pops when I record my vocals.</td>\n",
              "      <td>1392940800</td>\n",
              "      <td>2014-02-21</td>\n",
              "      <td>0</td>\n",
              "      <td>0</td>\n",
              "      <td>good</td>\n",
              "    </tr>\n",
              "  </tbody>\n",
              "</table>\n",
              "</div>"
            ],
            "text/plain": [
              "      Reviewer_ID        asin  \\\n",
              "0  A2IBPI20UZIR0U  1384719342   \n",
              "1  A14VAT5EAX3D9S  1384719342   \n",
              "2  A195EZSQDW3E21  1384719342   \n",
              "3  A2C00NNG1ZQQG2  1384719342   \n",
              "4   A94QU4C90B1AX  1384719342   \n",
              "\n",
              "                                      Reviewer_Name  \\\n",
              "0  cassandra tu \"Yeah, well, that's just like, u...   \n",
              "1                                              Jake   \n",
              "2                     Rick Bennette \"Rick Bennette\"   \n",
              "3                         RustyBill \"Sunday Rocker\"   \n",
              "4                                     SEAN MASLANKA   \n",
              "\n",
              "                                         Review_Text  Rating  \\\n",
              "0  Not much to write about here, but it does exac...       5   \n",
              "1  The product does exactly as it should and is q...       5   \n",
              "2  The primary job of this device is to block the...       5   \n",
              "3  Nice windscreen protects my MXL mic and preven...       5   \n",
              "4  This pop filter is great. It looks and perform...       5   \n",
              "\n",
              "                                 summary  Unix_Review_Time Review_Time  \\\n",
              "0                                   good        1393545600  2014-02-28   \n",
              "1                                   Jake        1363392000  2013-03-16   \n",
              "2                   It Does The Job Well        1377648000  2013-08-28   \n",
              "3          GOOD WINDSCREEN FOR THE MONEY        1392336000  2014-02-14   \n",
              "4  No more pops when I record my vocals.        1392940800  2014-02-21   \n",
              "\n",
              "   Review_Likes  Review_Dislikes Rating_Category  \n",
              "0             0                0            good  \n",
              "1            13                1            good  \n",
              "2             1                0            good  \n",
              "3             0                0            good  \n",
              "4             0                0            good  "
            ]
          },
          "execution_count": 91,
          "metadata": {},
          "output_type": "execute_result"
        }
      ],
      "source": [
        "data_review_MI['Rating_Category'] = data_review_MI['Rating'].apply(lambda x: 'bad' if x < 3 else('neutral' if x == 3 else 'good'))\n",
        "data_review_MI.head()"
      ]
    },
    {
      "cell_type": "markdown",
      "id": "bac04816",
      "metadata": {
        "id": "bac04816"
      },
      "source": [
        "### Checking For Duplicated Values"
      ]
    },
    {
      "cell_type": "code",
      "execution_count": null,
      "id": "604249d7",
      "metadata": {
        "id": "604249d7",
        "outputId": "14ea33f9-21c2-4a55-adeb-18315a1a273a"
      },
      "outputs": [
        {
          "data": {
            "text/html": [
              "<div>\n",
              "<style scoped>\n",
              "    .dataframe tbody tr th:only-of-type {\n",
              "        vertical-align: middle;\n",
              "    }\n",
              "\n",
              "    .dataframe tbody tr th {\n",
              "        vertical-align: top;\n",
              "    }\n",
              "\n",
              "    .dataframe thead th {\n",
              "        text-align: right;\n",
              "    }\n",
              "</style>\n",
              "<table border=\"1\" class=\"dataframe\">\n",
              "  <thead>\n",
              "    <tr style=\"text-align: right;\">\n",
              "      <th></th>\n",
              "      <th>Reviewer_ID</th>\n",
              "      <th>asin</th>\n",
              "      <th>Reviewer_Name</th>\n",
              "      <th>Review_Text</th>\n",
              "      <th>Rating</th>\n",
              "      <th>summary</th>\n",
              "      <th>Unix_Review_Time</th>\n",
              "      <th>Review_Time</th>\n",
              "      <th>Review_Likes</th>\n",
              "      <th>Review_Dislikes</th>\n",
              "      <th>Rating_Category</th>\n",
              "    </tr>\n",
              "  </thead>\n",
              "  <tbody>\n",
              "    <tr>\n",
              "      <th>70</th>\n",
              "      <td>A1FHOW9NVOH8XR</td>\n",
              "      <td>B000068NW5</td>\n",
              "      <td>Lee</td>\n",
              "      <td>Hosa Cable GTR210 Guitar Instrument Cable - 10...</td>\n",
              "      <td>5</td>\n",
              "      <td>Hosa Cable GTR210 Guitar Instrument Cable - 10ft.</td>\n",
              "      <td>1359936000</td>\n",
              "      <td>2013-02-04</td>\n",
              "      <td>0</td>\n",
              "      <td>0</td>\n",
              "      <td>good</td>\n",
              "    </tr>\n",
              "    <tr>\n",
              "      <th>71</th>\n",
              "      <td>A319B090A2POEB</td>\n",
              "      <td>B000068NW5</td>\n",
              "      <td>Lee</td>\n",
              "      <td>...unbalanced guitar cable is notoriously nois...</td>\n",
              "      <td>3</td>\n",
              "      <td>Standard guitar cable</td>\n",
              "      <td>1329004800</td>\n",
              "      <td>2012-02-12</td>\n",
              "      <td>0</td>\n",
              "      <td>0</td>\n",
              "      <td>neutral</td>\n",
              "    </tr>\n",
              "    <tr>\n",
              "      <th>547</th>\n",
              "      <td>A87NFCCTUG4PO</td>\n",
              "      <td>B0002CZVXM</td>\n",
              "      <td>John</td>\n",
              "      <td>I like these straplocks, but they were a littl...</td>\n",
              "      <td>4</td>\n",
              "      <td>Work fine.  Tight fit with some straps.</td>\n",
              "      <td>1385424000</td>\n",
              "      <td>2013-11-26</td>\n",
              "      <td>0</td>\n",
              "      <td>0</td>\n",
              "      <td>good</td>\n",
              "    </tr>\n",
              "    <tr>\n",
              "      <th>548</th>\n",
              "      <td>AITXZ1QOILJ5Z</td>\n",
              "      <td>B0002CZVXM</td>\n",
              "      <td>John</td>\n",
              "      <td>Quick snap on and off. Sturdy.  If it is not c...</td>\n",
              "      <td>5</td>\n",
              "      <td>don't let your guitar fall</td>\n",
              "      <td>1358726400</td>\n",
              "      <td>2013-01-21</td>\n",
              "      <td>0</td>\n",
              "      <td>0</td>\n",
              "      <td>good</td>\n",
              "    </tr>\n",
              "    <tr>\n",
              "      <th>2176</th>\n",
              "      <td>A217QN6PDMKS1A</td>\n",
              "      <td>B0002F7K7Y</td>\n",
              "      <td>Steve</td>\n",
              "      <td>I've been hooked on D'Addarios for quite a whi...</td>\n",
              "      <td>5</td>\n",
              "      <td>Some of the best strings.</td>\n",
              "      <td>1381276800</td>\n",
              "      <td>2013-10-09</td>\n",
              "      <td>0</td>\n",
              "      <td>0</td>\n",
              "      <td>good</td>\n",
              "    </tr>\n",
              "    <tr>\n",
              "      <th>2177</th>\n",
              "      <td>A2O52ICJCRQYVK</td>\n",
              "      <td>B0002F7K7Y</td>\n",
              "      <td>Steve</td>\n",
              "      <td>D'Addario Strings are not my usual strings, I ...</td>\n",
              "      <td>5</td>\n",
              "      <td>D'Addario Guitar Strings</td>\n",
              "      <td>1354233600</td>\n",
              "      <td>2012-11-30</td>\n",
              "      <td>2</td>\n",
              "      <td>1</td>\n",
              "      <td>good</td>\n",
              "    </tr>\n",
              "    <tr>\n",
              "      <th>2271</th>\n",
              "      <td>A34QHL6I85K3V5</td>\n",
              "      <td>B0002GLCRC</td>\n",
              "      <td>Chris</td>\n",
              "      <td>i bought one, then i bought two more, then i b...</td>\n",
              "      <td>5</td>\n",
              "      <td>Hangs with the best of 'em...</td>\n",
              "      <td>1355097600</td>\n",
              "      <td>2012-12-10</td>\n",
              "      <td>0</td>\n",
              "      <td>0</td>\n",
              "      <td>good</td>\n",
              "    </tr>\n",
              "    <tr>\n",
              "      <th>2272</th>\n",
              "      <td>A11INIL2YFJ137</td>\n",
              "      <td>B0002GLCRC</td>\n",
              "      <td>Chris</td>\n",
              "      <td>Perfect for hanging displaying your guitars.  ...</td>\n",
              "      <td>5</td>\n",
              "      <td>Love them</td>\n",
              "      <td>1388620800</td>\n",
              "      <td>2014-01-02</td>\n",
              "      <td>0</td>\n",
              "      <td>0</td>\n",
              "      <td>good</td>\n",
              "    </tr>\n",
              "    <tr>\n",
              "      <th>2929</th>\n",
              "      <td>A37T74W067OYPB</td>\n",
              "      <td>B0002H0JZC</td>\n",
              "      <td>Amazon Customer</td>\n",
              "      <td>Nice, works and no problem.Sound is good.Packa...</td>\n",
              "      <td>4</td>\n",
              "      <td>D'Addario EJ27N Student Nylon Classical Guitar...</td>\n",
              "      <td>1361750400</td>\n",
              "      <td>2013-02-25</td>\n",
              "      <td>0</td>\n",
              "      <td>0</td>\n",
              "      <td>good</td>\n",
              "    </tr>\n",
              "    <tr>\n",
              "      <th>2930</th>\n",
              "      <td>A4BTCECGQAIUI</td>\n",
              "      <td>B0002H0JZC</td>\n",
              "      <td>Amazon Customer</td>\n",
              "      <td>Regular strings. They work, and they last. The...</td>\n",
              "      <td>4</td>\n",
              "      <td>Nice Job</td>\n",
              "      <td>1386892800</td>\n",
              "      <td>2013-12-13</td>\n",
              "      <td>0</td>\n",
              "      <td>0</td>\n",
              "      <td>good</td>\n",
              "    </tr>\n",
              "    <tr>\n",
              "      <th>3320</th>\n",
              "      <td>A31997Q9ABEIE9</td>\n",
              "      <td>B0002M6CW6</td>\n",
              "      <td>Pen Name</td>\n",
              "      <td>I have an Epiphone es-339 and recently put the...</td>\n",
              "      <td>5</td>\n",
              "      <td>My go-to strings for my electric guitar.</td>\n",
              "      <td>1397260800</td>\n",
              "      <td>2014-04-12</td>\n",
              "      <td>0</td>\n",
              "      <td>0</td>\n",
              "      <td>good</td>\n",
              "    </tr>\n",
              "    <tr>\n",
              "      <th>3321</th>\n",
              "      <td>A3H4PZB9PGMWAA</td>\n",
              "      <td>B0002M6CW6</td>\n",
              "      <td>Pen Name</td>\n",
              "      <td>Very clean very bright strings i use these on ...</td>\n",
              "      <td>5</td>\n",
              "      <td>... i use these on my strat and it feels good ...</td>\n",
              "      <td>1404172800</td>\n",
              "      <td>2014-07-01</td>\n",
              "      <td>0</td>\n",
              "      <td>0</td>\n",
              "      <td>good</td>\n",
              "    </tr>\n",
              "    <tr>\n",
              "      <th>3375</th>\n",
              "      <td>A4BTCECGQAIUI</td>\n",
              "      <td>B0002OOMU8</td>\n",
              "      <td>Amazon Customer</td>\n",
              "      <td>I like the product, i like the idea to have so...</td>\n",
              "      <td>3</td>\n",
              "      <td>Ok</td>\n",
              "      <td>1369872000</td>\n",
              "      <td>2013-05-30</td>\n",
              "      <td>0</td>\n",
              "      <td>0</td>\n",
              "      <td>neutral</td>\n",
              "    </tr>\n",
              "    <tr>\n",
              "      <th>3376</th>\n",
              "      <td>A37T74W067OYPB</td>\n",
              "      <td>B0002OOMU8</td>\n",
              "      <td>Amazon Customer</td>\n",
              "      <td>I love this, now I don't have to find my pick....</td>\n",
              "      <td>5</td>\n",
              "      <td>Dunlop 5005 Pick Holder, Each (5005)</td>\n",
              "      <td>1361750400</td>\n",
              "      <td>2013-02-25</td>\n",
              "      <td>0</td>\n",
              "      <td>0</td>\n",
              "      <td>good</td>\n",
              "    </tr>\n",
              "    <tr>\n",
              "      <th>5374</th>\n",
              "      <td>A1FHOW9NVOH8XR</td>\n",
              "      <td>B000RKAFIU</td>\n",
              "      <td>Lee</td>\n",
              "      <td>GLS Audio 25ft Mic Cable is very High Quality....</td>\n",
              "      <td>5</td>\n",
              "      <td>GLS Audio 25ft Mic Cable</td>\n",
              "      <td>1359936000</td>\n",
              "      <td>2013-02-04</td>\n",
              "      <td>0</td>\n",
              "      <td>0</td>\n",
              "      <td>good</td>\n",
              "    </tr>\n",
              "    <tr>\n",
              "      <th>5375</th>\n",
              "      <td>A319B090A2POEB</td>\n",
              "      <td>B000RKAFIU</td>\n",
              "      <td>Lee</td>\n",
              "      <td>I've used these at every gig I have run sound ...</td>\n",
              "      <td>5</td>\n",
              "      <td>My go to cables</td>\n",
              "      <td>1341705600</td>\n",
              "      <td>2012-07-08</td>\n",
              "      <td>0</td>\n",
              "      <td>0</td>\n",
              "      <td>good</td>\n",
              "    </tr>\n",
              "    <tr>\n",
              "      <th>6875</th>\n",
              "      <td>A18VM3LYCTBV3E</td>\n",
              "      <td>B001PGXKC8</td>\n",
              "      <td>Matt</td>\n",
              "      <td>If you're looking for the perfect patch cables...</td>\n",
              "      <td>4</td>\n",
              "      <td>Solid Cables at a Good Price</td>\n",
              "      <td>1365465600</td>\n",
              "      <td>2013-04-09</td>\n",
              "      <td>0</td>\n",
              "      <td>0</td>\n",
              "      <td>good</td>\n",
              "    </tr>\n",
              "    <tr>\n",
              "      <th>6876</th>\n",
              "      <td>AZE83O4F1IJPR</td>\n",
              "      <td>B001PGXKC8</td>\n",
              "      <td>Matt</td>\n",
              "      <td>Worked perfectly for my needs. I don't have a ...</td>\n",
              "      <td>5</td>\n",
              "      <td>Just what I needed.</td>\n",
              "      <td>1399075200</td>\n",
              "      <td>2014-05-03</td>\n",
              "      <td>0</td>\n",
              "      <td>1</td>\n",
              "      <td>good</td>\n",
              "    </tr>\n",
              "    <tr>\n",
              "      <th>7960</th>\n",
              "      <td>A2LSR40ZH18TPH</td>\n",
              "      <td>B003JJQMD8</td>\n",
              "      <td>Amazon Customer</td>\n",
              "      <td>Good, flexible cable.  The connectors are well...</td>\n",
              "      <td>5</td>\n",
              "      <td>Well constructed cables at a good price.</td>\n",
              "      <td>1350777600</td>\n",
              "      <td>2012-10-21</td>\n",
              "      <td>0</td>\n",
              "      <td>0</td>\n",
              "      <td>good</td>\n",
              "    </tr>\n",
              "    <tr>\n",
              "      <th>7961</th>\n",
              "      <td>A14V6CXN8ZWZOS</td>\n",
              "      <td>B003JJQMD8</td>\n",
              "      <td>Amazon Customer</td>\n",
              "      <td>I own several of these and general buy from GL...</td>\n",
              "      <td>5</td>\n",
              "      <td>Great product and price.</td>\n",
              "      <td>1357603200</td>\n",
              "      <td>2013-01-08</td>\n",
              "      <td>0</td>\n",
              "      <td>0</td>\n",
              "      <td>good</td>\n",
              "    </tr>\n",
              "    <tr>\n",
              "      <th>8471</th>\n",
              "      <td>AITXZ1QOILJ5Z</td>\n",
              "      <td>B0042EZH6W</td>\n",
              "      <td>John</td>\n",
              "      <td>I ordered this and it arrived surprisingly qui...</td>\n",
              "      <td>5</td>\n",
              "      <td>it didn't work</td>\n",
              "      <td>1317254400</td>\n",
              "      <td>2011-09-29</td>\n",
              "      <td>0</td>\n",
              "      <td>0</td>\n",
              "      <td>good</td>\n",
              "    </tr>\n",
              "    <tr>\n",
              "      <th>8472</th>\n",
              "      <td>A87NFCCTUG4PO</td>\n",
              "      <td>B0042EZH6W</td>\n",
              "      <td>John</td>\n",
              "      <td>This is really a great amp for the price.  If ...</td>\n",
              "      <td>5</td>\n",
              "      <td>Completely Blown Away By This Amp!</td>\n",
              "      <td>1334707200</td>\n",
              "      <td>2012-04-18</td>\n",
              "      <td>1</td>\n",
              "      <td>0</td>\n",
              "      <td>good</td>\n",
              "    </tr>\n",
              "  </tbody>\n",
              "</table>\n",
              "</div>"
            ],
            "text/plain": [
              "         Reviewer_ID        asin    Reviewer_Name  \\\n",
              "70    A1FHOW9NVOH8XR  B000068NW5              Lee   \n",
              "71    A319B090A2POEB  B000068NW5              Lee   \n",
              "547    A87NFCCTUG4PO  B0002CZVXM             John   \n",
              "548    AITXZ1QOILJ5Z  B0002CZVXM             John   \n",
              "2176  A217QN6PDMKS1A  B0002F7K7Y            Steve   \n",
              "2177  A2O52ICJCRQYVK  B0002F7K7Y            Steve   \n",
              "2271  A34QHL6I85K3V5  B0002GLCRC            Chris   \n",
              "2272  A11INIL2YFJ137  B0002GLCRC            Chris   \n",
              "2929  A37T74W067OYPB  B0002H0JZC  Amazon Customer   \n",
              "2930   A4BTCECGQAIUI  B0002H0JZC  Amazon Customer   \n",
              "3320  A31997Q9ABEIE9  B0002M6CW6         Pen Name   \n",
              "3321  A3H4PZB9PGMWAA  B0002M6CW6         Pen Name   \n",
              "3375   A4BTCECGQAIUI  B0002OOMU8  Amazon Customer   \n",
              "3376  A37T74W067OYPB  B0002OOMU8  Amazon Customer   \n",
              "5374  A1FHOW9NVOH8XR  B000RKAFIU              Lee   \n",
              "5375  A319B090A2POEB  B000RKAFIU              Lee   \n",
              "6875  A18VM3LYCTBV3E  B001PGXKC8             Matt   \n",
              "6876   AZE83O4F1IJPR  B001PGXKC8             Matt   \n",
              "7960  A2LSR40ZH18TPH  B003JJQMD8  Amazon Customer   \n",
              "7961  A14V6CXN8ZWZOS  B003JJQMD8  Amazon Customer   \n",
              "8471   AITXZ1QOILJ5Z  B0042EZH6W             John   \n",
              "8472   A87NFCCTUG4PO  B0042EZH6W             John   \n",
              "\n",
              "                                            Review_Text  Rating  \\\n",
              "70    Hosa Cable GTR210 Guitar Instrument Cable - 10...       5   \n",
              "71    ...unbalanced guitar cable is notoriously nois...       3   \n",
              "547   I like these straplocks, but they were a littl...       4   \n",
              "548   Quick snap on and off. Sturdy.  If it is not c...       5   \n",
              "2176  I've been hooked on D'Addarios for quite a whi...       5   \n",
              "2177  D'Addario Strings are not my usual strings, I ...       5   \n",
              "2271  i bought one, then i bought two more, then i b...       5   \n",
              "2272  Perfect for hanging displaying your guitars.  ...       5   \n",
              "2929  Nice, works and no problem.Sound is good.Packa...       4   \n",
              "2930  Regular strings. They work, and they last. The...       4   \n",
              "3320  I have an Epiphone es-339 and recently put the...       5   \n",
              "3321  Very clean very bright strings i use these on ...       5   \n",
              "3375  I like the product, i like the idea to have so...       3   \n",
              "3376  I love this, now I don't have to find my pick....       5   \n",
              "5374  GLS Audio 25ft Mic Cable is very High Quality....       5   \n",
              "5375  I've used these at every gig I have run sound ...       5   \n",
              "6875  If you're looking for the perfect patch cables...       4   \n",
              "6876  Worked perfectly for my needs. I don't have a ...       5   \n",
              "7960  Good, flexible cable.  The connectors are well...       5   \n",
              "7961  I own several of these and general buy from GL...       5   \n",
              "8471  I ordered this and it arrived surprisingly qui...       5   \n",
              "8472  This is really a great amp for the price.  If ...       5   \n",
              "\n",
              "                                                summary  Unix_Review_Time  \\\n",
              "70    Hosa Cable GTR210 Guitar Instrument Cable - 10ft.        1359936000   \n",
              "71                                Standard guitar cable        1329004800   \n",
              "547             Work fine.  Tight fit with some straps.        1385424000   \n",
              "548                          don't let your guitar fall        1358726400   \n",
              "2176                          Some of the best strings.        1381276800   \n",
              "2177                           D'Addario Guitar Strings        1354233600   \n",
              "2271                      Hangs with the best of 'em...        1355097600   \n",
              "2272                                          Love them        1388620800   \n",
              "2929  D'Addario EJ27N Student Nylon Classical Guitar...        1361750400   \n",
              "2930                                           Nice Job        1386892800   \n",
              "3320           My go-to strings for my electric guitar.        1397260800   \n",
              "3321  ... i use these on my strat and it feels good ...        1404172800   \n",
              "3375                                                 Ok        1369872000   \n",
              "3376               Dunlop 5005 Pick Holder, Each (5005)        1361750400   \n",
              "5374                           GLS Audio 25ft Mic Cable        1359936000   \n",
              "5375                                    My go to cables        1341705600   \n",
              "6875                       Solid Cables at a Good Price        1365465600   \n",
              "6876                                Just what I needed.        1399075200   \n",
              "7960           Well constructed cables at a good price.        1350777600   \n",
              "7961                           Great product and price.        1357603200   \n",
              "8471                                     it didn't work        1317254400   \n",
              "8472                 Completely Blown Away By This Amp!        1334707200   \n",
              "\n",
              "     Review_Time  Review_Likes  Review_Dislikes Rating_Category  \n",
              "70    2013-02-04             0                0            good  \n",
              "71    2012-02-12             0                0         neutral  \n",
              "547   2013-11-26             0                0            good  \n",
              "548   2013-01-21             0                0            good  \n",
              "2176  2013-10-09             0                0            good  \n",
              "2177  2012-11-30             2                1            good  \n",
              "2271  2012-12-10             0                0            good  \n",
              "2272  2014-01-02             0                0            good  \n",
              "2929  2013-02-25             0                0            good  \n",
              "2930  2013-12-13             0                0            good  \n",
              "3320  2014-04-12             0                0            good  \n",
              "3321  2014-07-01             0                0            good  \n",
              "3375  2013-05-30             0                0         neutral  \n",
              "3376  2013-02-25             0                0            good  \n",
              "5374  2013-02-04             0                0            good  \n",
              "5375  2012-07-08             0                0            good  \n",
              "6875  2013-04-09             0                0            good  \n",
              "6876  2014-05-03             0                1            good  \n",
              "7960  2012-10-21             0                0            good  \n",
              "7961  2013-01-08             0                0            good  \n",
              "8471  2011-09-29             0                0            good  \n",
              "8472  2012-04-18             1                0            good  "
            ]
          },
          "execution_count": 92,
          "metadata": {},
          "output_type": "execute_result"
        }
      ],
      "source": [
        "data_review_MI[data_review_MI.duplicated(['Reviewer_Name','asin'],keep= False)]"
      ]
    },
    {
      "cell_type": "code",
      "execution_count": null,
      "id": "34cbc782",
      "metadata": {
        "id": "34cbc782",
        "outputId": "849f08b3-9f88-4ba4-d583-bbda559da0b1"
      },
      "outputs": [
        {
          "data": {
            "text/plain": [
              "(10234, 11)"
            ]
          },
          "execution_count": 93,
          "metadata": {},
          "output_type": "execute_result"
        }
      ],
      "source": [
        "data_review_MI.shape"
      ]
    },
    {
      "cell_type": "markdown",
      "id": "7e1f4412",
      "metadata": {
        "id": "7e1f4412"
      },
      "source": [
        "### Dropping Duplicated Values In 'asin','Reviewer_Name'"
      ]
    },
    {
      "cell_type": "code",
      "execution_count": null,
      "id": "36df8835",
      "metadata": {
        "id": "36df8835"
      },
      "outputs": [],
      "source": [
        "data_review_MI = data_review_MI.drop_duplicates(['asin', 'Reviewer_Name'], keep = 'first')"
      ]
    },
    {
      "cell_type": "code",
      "execution_count": null,
      "id": "3e60efcc",
      "metadata": {
        "id": "3e60efcc",
        "outputId": "1e786d9a-471f-429e-8a92-ea6d82ac394f"
      },
      "outputs": [
        {
          "data": {
            "text/plain": [
              "(10223, 11)"
            ]
          },
          "execution_count": 95,
          "metadata": {},
          "output_type": "execute_result"
        }
      ],
      "source": [
        "data_review_MI.shape"
      ]
    },
    {
      "cell_type": "markdown",
      "id": "0c225c07",
      "metadata": {
        "id": "0c225c07"
      },
      "source": [
        "### Descriptive Statistics"
      ]
    },
    {
      "cell_type": "code",
      "execution_count": null,
      "id": "947ec6b9",
      "metadata": {
        "id": "947ec6b9",
        "outputId": "d36d5216-cdaa-446c-e65e-6b5d165ba82f"
      },
      "outputs": [
        {
          "name": "stdout",
          "output_type": "stream",
          "text": [
            "Number of reviews:  10223\n",
            "Number of unique reviewers:  1428\n",
            "Average rating score:  4.488\n"
          ]
        }
      ],
      "source": [
        "# Total reviews\n",
        "total = len(data_review_MI)\n",
        "print (\"Number of reviews: \",total)\n",
        "\n",
        "# How many unique reviewers\n",
        "print (\"Number of unique reviewers: \",len(data_review_MI.Reviewer_ID.unique()))\n",
        "reviewer_prop = float(len(data_review_MI.Reviewer_ID.unique())/total)\n",
        "\n",
        "\n",
        "# Average rating score\n",
        "print (\"Average rating score: \",round(data_review_MI.Rating.mean(),3))\n"
      ]
    },
    {
      "cell_type": "code",
      "execution_count": null,
      "id": "f677559c",
      "metadata": {
        "id": "f677559c",
        "outputId": "f2119e81-96fc-4d7c-ba12-68ce54cd3b03"
      },
      "outputs": [
        {
          "name": "stdout",
          "output_type": "stream",
          "text": [
            "<class 'pandas.core.frame.DataFrame'>\n",
            "Int64Index: 10223 entries, 0 to 10260\n",
            "Data columns (total 11 columns):\n",
            " #   Column            Non-Null Count  Dtype         \n",
            "---  ------            --------------  -----         \n",
            " 0   Reviewer_ID       10223 non-null  object        \n",
            " 1   asin              10223 non-null  object        \n",
            " 2   Reviewer_Name     10223 non-null  object        \n",
            " 3   Review_Text       10223 non-null  object        \n",
            " 4   Rating            10223 non-null  int64         \n",
            " 5   summary           10223 non-null  object        \n",
            " 6   Unix_Review_Time  10223 non-null  int64         \n",
            " 7   Review_Time       10223 non-null  datetime64[ns]\n",
            " 8   Review_Likes      10223 non-null  int64         \n",
            " 9   Review_Dislikes   10223 non-null  int64         \n",
            " 10  Rating_Category   10223 non-null  object        \n",
            "dtypes: datetime64[ns](1), int64(4), object(6)\n",
            "memory usage: 958.4+ KB\n"
          ]
        }
      ],
      "source": [
        "data_review_MI.info()"
      ]
    },
    {
      "cell_type": "code",
      "execution_count": null,
      "id": "3248e01a",
      "metadata": {
        "id": "3248e01a",
        "outputId": "7d43776f-85f8-4adb-c799-8cf259d6304b"
      },
      "outputs": [
        {
          "data": {
            "text/html": [
              "<div>\n",
              "<style scoped>\n",
              "    .dataframe tbody tr th:only-of-type {\n",
              "        vertical-align: middle;\n",
              "    }\n",
              "\n",
              "    .dataframe tbody tr th {\n",
              "        vertical-align: top;\n",
              "    }\n",
              "\n",
              "    .dataframe thead th {\n",
              "        text-align: right;\n",
              "    }\n",
              "</style>\n",
              "<table border=\"1\" class=\"dataframe\">\n",
              "  <thead>\n",
              "    <tr style=\"text-align: right;\">\n",
              "      <th></th>\n",
              "      <th>Rating</th>\n",
              "      <th>Review_Likes</th>\n",
              "      <th>Review_Dislikes</th>\n",
              "    </tr>\n",
              "  </thead>\n",
              "  <tbody>\n",
              "    <tr>\n",
              "      <th>count</th>\n",
              "      <td>10223.000000</td>\n",
              "      <td>10223.000000</td>\n",
              "      <td>10223.000000</td>\n",
              "    </tr>\n",
              "    <tr>\n",
              "      <th>mean</th>\n",
              "      <td>4.488408</td>\n",
              "      <td>1.576347</td>\n",
              "      <td>0.287880</td>\n",
              "    </tr>\n",
              "    <tr>\n",
              "      <th>std</th>\n",
              "      <td>0.894579</td>\n",
              "      <td>8.936537</td>\n",
              "      <td>1.552756</td>\n",
              "    </tr>\n",
              "    <tr>\n",
              "      <th>min</th>\n",
              "      <td>1.000000</td>\n",
              "      <td>0.000000</td>\n",
              "      <td>0.000000</td>\n",
              "    </tr>\n",
              "    <tr>\n",
              "      <th>25%</th>\n",
              "      <td>4.000000</td>\n",
              "      <td>0.000000</td>\n",
              "      <td>0.000000</td>\n",
              "    </tr>\n",
              "    <tr>\n",
              "      <th>50%</th>\n",
              "      <td>5.000000</td>\n",
              "      <td>0.000000</td>\n",
              "      <td>0.000000</td>\n",
              "    </tr>\n",
              "    <tr>\n",
              "      <th>75%</th>\n",
              "      <td>5.000000</td>\n",
              "      <td>1.000000</td>\n",
              "      <td>0.000000</td>\n",
              "    </tr>\n",
              "    <tr>\n",
              "      <th>max</th>\n",
              "      <td>5.000000</td>\n",
              "      <td>290.000000</td>\n",
              "      <td>90.000000</td>\n",
              "    </tr>\n",
              "  </tbody>\n",
              "</table>\n",
              "</div>"
            ],
            "text/plain": [
              "             Rating  Review_Likes  Review_Dislikes\n",
              "count  10223.000000  10223.000000     10223.000000\n",
              "mean       4.488408      1.576347         0.287880\n",
              "std        0.894579      8.936537         1.552756\n",
              "min        1.000000      0.000000         0.000000\n",
              "25%        4.000000      0.000000         0.000000\n",
              "50%        5.000000      0.000000         0.000000\n",
              "75%        5.000000      1.000000         0.000000\n",
              "max        5.000000    290.000000        90.000000"
            ]
          },
          "execution_count": 98,
          "metadata": {},
          "output_type": "execute_result"
        }
      ],
      "source": [
        "# Read statistic summary of numeric variables\n",
        "data_review_MI[['Rating','Review_Likes','Review_Dislikes']].describe()"
      ]
    },
    {
      "cell_type": "code",
      "execution_count": null,
      "id": "b86cd2c2",
      "metadata": {
        "id": "b86cd2c2",
        "outputId": "0c206fb1-dde9-469e-b208-683ba8fcff5e"
      },
      "outputs": [
        {
          "name": "stdout",
          "output_type": "stream",
          "text": [
            "\n",
            "Number of unique customers : 1428\n",
            "\n",
            "Review per customer: 7.158963585434174\n"
          ]
        }
      ],
      "source": [
        "# Statistics of non-numeric variables\n",
        "\n",
        "# Number of unique customers\n",
        "print('\\nNumber of unique customers : {}'.format(len(data_review_MI['Reviewer_ID'].unique())))\n",
        "\n",
        "      \n",
        "# Review number per unique customer\n",
        "print('\\nReview per customer: {}'.format((len(data_review_MI)/len(data_review_MI['Reviewer_ID'].unique()))))      \n"
      ]
    },
    {
      "cell_type": "code",
      "execution_count": null,
      "id": "c8eaaf43",
      "metadata": {
        "id": "c8eaaf43",
        "outputId": "6c11407c-f86a-4c64-b132-9d05adcb4ef9"
      },
      "outputs": [
        {
          "data": {
            "text/html": [
              "<div>\n",
              "<style scoped>\n",
              "    .dataframe tbody tr th:only-of-type {\n",
              "        vertical-align: middle;\n",
              "    }\n",
              "\n",
              "    .dataframe tbody tr th {\n",
              "        vertical-align: top;\n",
              "    }\n",
              "\n",
              "    .dataframe thead th {\n",
              "        text-align: right;\n",
              "    }\n",
              "</style>\n",
              "<table border=\"1\" class=\"dataframe\">\n",
              "  <thead>\n",
              "    <tr style=\"text-align: right;\">\n",
              "      <th></th>\n",
              "      <th>Reviewer_ID</th>\n",
              "      <th>asin</th>\n",
              "      <th>Reviewer_Name</th>\n",
              "      <th>Rating</th>\n",
              "      <th>Unix_Review_Time</th>\n",
              "      <th>Review_Time</th>\n",
              "      <th>Review_Likes</th>\n",
              "      <th>Review_Dislikes</th>\n",
              "      <th>Rating_Category</th>\n",
              "      <th>review_text</th>\n",
              "    </tr>\n",
              "  </thead>\n",
              "  <tbody>\n",
              "    <tr>\n",
              "      <th>0</th>\n",
              "      <td>A2IBPI20UZIR0U</td>\n",
              "      <td>1384719342</td>\n",
              "      <td>cassandra tu \"Yeah, well, that's just like, u...</td>\n",
              "      <td>5</td>\n",
              "      <td>1393545600</td>\n",
              "      <td>2014-02-28</td>\n",
              "      <td>0</td>\n",
              "      <td>0</td>\n",
              "      <td>good</td>\n",
              "      <td>good Not much to write about here, but it does...</td>\n",
              "    </tr>\n",
              "    <tr>\n",
              "      <th>1</th>\n",
              "      <td>A14VAT5EAX3D9S</td>\n",
              "      <td>1384719342</td>\n",
              "      <td>Jake</td>\n",
              "      <td>5</td>\n",
              "      <td>1363392000</td>\n",
              "      <td>2013-03-16</td>\n",
              "      <td>13</td>\n",
              "      <td>1</td>\n",
              "      <td>good</td>\n",
              "      <td>Jake The product does exactly as it should and...</td>\n",
              "    </tr>\n",
              "    <tr>\n",
              "      <th>2</th>\n",
              "      <td>A195EZSQDW3E21</td>\n",
              "      <td>1384719342</td>\n",
              "      <td>Rick Bennette \"Rick Bennette\"</td>\n",
              "      <td>5</td>\n",
              "      <td>1377648000</td>\n",
              "      <td>2013-08-28</td>\n",
              "      <td>1</td>\n",
              "      <td>0</td>\n",
              "      <td>good</td>\n",
              "      <td>It Does The Job Well The primary job of this d...</td>\n",
              "    </tr>\n",
              "    <tr>\n",
              "      <th>3</th>\n",
              "      <td>A2C00NNG1ZQQG2</td>\n",
              "      <td>1384719342</td>\n",
              "      <td>RustyBill \"Sunday Rocker\"</td>\n",
              "      <td>5</td>\n",
              "      <td>1392336000</td>\n",
              "      <td>2014-02-14</td>\n",
              "      <td>0</td>\n",
              "      <td>0</td>\n",
              "      <td>good</td>\n",
              "      <td>GOOD WINDSCREEN FOR THE MONEY Nice windscreen ...</td>\n",
              "    </tr>\n",
              "    <tr>\n",
              "      <th>4</th>\n",
              "      <td>A94QU4C90B1AX</td>\n",
              "      <td>1384719342</td>\n",
              "      <td>SEAN MASLANKA</td>\n",
              "      <td>5</td>\n",
              "      <td>1392940800</td>\n",
              "      <td>2014-02-21</td>\n",
              "      <td>0</td>\n",
              "      <td>0</td>\n",
              "      <td>good</td>\n",
              "      <td>No more pops when I record my vocals. This pop...</td>\n",
              "    </tr>\n",
              "  </tbody>\n",
              "</table>\n",
              "</div>"
            ],
            "text/plain": [
              "      Reviewer_ID        asin  \\\n",
              "0  A2IBPI20UZIR0U  1384719342   \n",
              "1  A14VAT5EAX3D9S  1384719342   \n",
              "2  A195EZSQDW3E21  1384719342   \n",
              "3  A2C00NNG1ZQQG2  1384719342   \n",
              "4   A94QU4C90B1AX  1384719342   \n",
              "\n",
              "                                      Reviewer_Name  Rating  Unix_Review_Time  \\\n",
              "0  cassandra tu \"Yeah, well, that's just like, u...       5        1393545600   \n",
              "1                                              Jake       5        1363392000   \n",
              "2                     Rick Bennette \"Rick Bennette\"       5        1377648000   \n",
              "3                         RustyBill \"Sunday Rocker\"       5        1392336000   \n",
              "4                                     SEAN MASLANKA       5        1392940800   \n",
              "\n",
              "  Review_Time  Review_Likes  Review_Dislikes Rating_Category  \\\n",
              "0  2014-02-28             0                0            good   \n",
              "1  2013-03-16            13                1            good   \n",
              "2  2013-08-28             1                0            good   \n",
              "3  2014-02-14             0                0            good   \n",
              "4  2014-02-21             0                0            good   \n",
              "\n",
              "                                         review_text  \n",
              "0  good Not much to write about here, but it does...  \n",
              "1  Jake The product does exactly as it should and...  \n",
              "2  It Does The Job Well The primary job of this d...  \n",
              "3  GOOD WINDSCREEN FOR THE MONEY Nice windscreen ...  \n",
              "4  No more pops when I record my vocals. This pop...  "
            ]
          },
          "execution_count": 100,
          "metadata": {},
          "output_type": "execute_result"
        }
      ],
      "source": [
        "# CONCATENATE REVIEWTEXT AND SUMMARY \n",
        "\n",
        "data_review_MI['review_text'] = data_review_MI[['summary', 'Review_Text']].apply(lambda x: \" \".join(str(y) for y in x if str(y) != 'nan'), axis = 1)\n",
        "data_review_MI = data_review_MI.drop(['Review_Text', 'summary'], axis = 1)\n",
        "data_review_MI.head()"
      ]
    },
    {
      "cell_type": "code",
      "execution_count": null,
      "id": "9f29411f",
      "metadata": {
        "id": "9f29411f"
      },
      "outputs": [],
      "source": [
        "#data_review_MI.to_csv(r'D:/Niit-std(material)/DS1/File-Project/data_review_MI.csv', index = False)"
      ]
    },
    {
      "cell_type": "markdown",
      "source": [
        "#Digital Music"
      ],
      "metadata": {
        "id": "TnqInJAywlIc"
      },
      "id": "TnqInJAywlIc"
    },
    {
      "cell_type": "markdown",
      "id": "280592dd",
      "metadata": {
        "id": "280592dd"
      },
      "source": [
        "### Dropping Null Values From The Feature 'Reviewer_Name'"
      ]
    },
    {
      "cell_type": "code",
      "execution_count": null,
      "id": "5a6ea55d",
      "metadata": {
        "id": "5a6ea55d",
        "outputId": "88d8a412-6fb1-4988-87c2-3fd7ba9c8921"
      },
      "outputs": [
        {
          "data": {
            "text/html": [
              "<div>\n",
              "<style scoped>\n",
              "    .dataframe tbody tr th:only-of-type {\n",
              "        vertical-align: middle;\n",
              "    }\n",
              "\n",
              "    .dataframe tbody tr th {\n",
              "        vertical-align: top;\n",
              "    }\n",
              "\n",
              "    .dataframe thead th {\n",
              "        text-align: right;\n",
              "    }\n",
              "</style>\n",
              "<table border=\"1\" class=\"dataframe\">\n",
              "  <thead>\n",
              "    <tr style=\"text-align: right;\">\n",
              "      <th></th>\n",
              "      <th>Reviewer_ID</th>\n",
              "      <th>asin</th>\n",
              "      <th>Reviewer_Name</th>\n",
              "      <th>helpful</th>\n",
              "      <th>Review_Text</th>\n",
              "      <th>Rating</th>\n",
              "      <th>summary</th>\n",
              "      <th>Unix_Review_Time</th>\n",
              "      <th>Review_Time</th>\n",
              "    </tr>\n",
              "  </thead>\n",
              "  <tbody>\n",
              "    <tr>\n",
              "      <th>0</th>\n",
              "      <td>A3EBHHCZO6V2A4</td>\n",
              "      <td>5555991584</td>\n",
              "      <td>Amaranth \"music fan\"</td>\n",
              "      <td>[3, 3]</td>\n",
              "      <td>It's hard to believe \"Memory of Trees\" came ou...</td>\n",
              "      <td>5</td>\n",
              "      <td>Enya's last great album</td>\n",
              "      <td>1158019200</td>\n",
              "      <td>09 12, 2006</td>\n",
              "    </tr>\n",
              "    <tr>\n",
              "      <th>1</th>\n",
              "      <td>AZPWAXJG9OJXV</td>\n",
              "      <td>5555991584</td>\n",
              "      <td>bethtexas</td>\n",
              "      <td>[0, 0]</td>\n",
              "      <td>A clasically-styled and introverted album, Mem...</td>\n",
              "      <td>5</td>\n",
              "      <td>Enya at her most elegant</td>\n",
              "      <td>991526400</td>\n",
              "      <td>06 3, 2001</td>\n",
              "    </tr>\n",
              "    <tr>\n",
              "      <th>2</th>\n",
              "      <td>A38IRL0X2T4DPF</td>\n",
              "      <td>5555991584</td>\n",
              "      <td>bob turnley</td>\n",
              "      <td>[2, 2]</td>\n",
              "      <td>I never thought Enya would reach the sublime h...</td>\n",
              "      <td>5</td>\n",
              "      <td>The best so far</td>\n",
              "      <td>1058140800</td>\n",
              "      <td>07 14, 2003</td>\n",
              "    </tr>\n",
              "    <tr>\n",
              "      <th>3</th>\n",
              "      <td>A22IK3I6U76GX0</td>\n",
              "      <td>5555991584</td>\n",
              "      <td>Calle</td>\n",
              "      <td>[1, 1]</td>\n",
              "      <td>This is the third review of an irish album I w...</td>\n",
              "      <td>5</td>\n",
              "      <td>Ireland produces good music.</td>\n",
              "      <td>957312000</td>\n",
              "      <td>05 3, 2000</td>\n",
              "    </tr>\n",
              "    <tr>\n",
              "      <th>4</th>\n",
              "      <td>A1AISPOIIHTHXX</td>\n",
              "      <td>5555991584</td>\n",
              "      <td>Cloud \"...\"</td>\n",
              "      <td>[1, 1]</td>\n",
              "      <td>Enya, despite being a successful recording art...</td>\n",
              "      <td>4</td>\n",
              "      <td>4.5; music to dream to</td>\n",
              "      <td>1200528000</td>\n",
              "      <td>01 17, 2008</td>\n",
              "    </tr>\n",
              "  </tbody>\n",
              "</table>\n",
              "</div>"
            ],
            "text/plain": [
              "      Reviewer_ID        asin         Reviewer_Name helpful  \\\n",
              "0  A3EBHHCZO6V2A4  5555991584  Amaranth \"music fan\"  [3, 3]   \n",
              "1   AZPWAXJG9OJXV  5555991584             bethtexas  [0, 0]   \n",
              "2  A38IRL0X2T4DPF  5555991584           bob turnley  [2, 2]   \n",
              "3  A22IK3I6U76GX0  5555991584                 Calle  [1, 1]   \n",
              "4  A1AISPOIIHTHXX  5555991584           Cloud \"...\"  [1, 1]   \n",
              "\n",
              "                                         Review_Text  Rating  \\\n",
              "0  It's hard to believe \"Memory of Trees\" came ou...       5   \n",
              "1  A clasically-styled and introverted album, Mem...       5   \n",
              "2  I never thought Enya would reach the sublime h...       5   \n",
              "3  This is the third review of an irish album I w...       5   \n",
              "4  Enya, despite being a successful recording art...       4   \n",
              "\n",
              "                        summary  Unix_Review_Time  Review_Time  \n",
              "0       Enya's last great album        1158019200  09 12, 2006  \n",
              "1      Enya at her most elegant         991526400   06 3, 2001  \n",
              "2               The best so far        1058140800  07 14, 2003  \n",
              "3  Ireland produces good music.         957312000   05 3, 2000  \n",
              "4        4.5; music to dream to        1200528000  01 17, 2008  "
            ]
          },
          "execution_count": 159,
          "metadata": {},
          "output_type": "execute_result"
        }
      ],
      "source": [
        "data_review_DM = data_review_DM.dropna(subset = ['Reviewer_Name'])\n",
        "data_review_DM.head()"
      ]
    },
    {
      "cell_type": "code",
      "execution_count": null,
      "id": "b9e2a842",
      "metadata": {
        "id": "b9e2a842",
        "outputId": "b60d9a0c-ab95-48c1-c892-e6ead5141c6c"
      },
      "outputs": [
        {
          "data": {
            "text/plain": [
              "(64529, 9)"
            ]
          },
          "execution_count": 134,
          "metadata": {},
          "output_type": "execute_result"
        }
      ],
      "source": [
        "data_review_DM.shape"
      ]
    },
    {
      "cell_type": "code",
      "execution_count": null,
      "id": "b43fc885",
      "metadata": {
        "id": "b43fc885",
        "outputId": "9dacb670-5317-4791-f2dd-581336ad248b"
      },
      "outputs": [
        {
          "name": "stdout",
          "output_type": "stream",
          "text": [
            "<class 'pandas.core.frame.DataFrame'>\n",
            "Int64Index: 64529 entries, 0 to 64705\n",
            "Data columns (total 9 columns):\n",
            " #   Column            Non-Null Count  Dtype \n",
            "---  ------            --------------  ----- \n",
            " 0   Reviewer_ID       64529 non-null  object\n",
            " 1   asin              64529 non-null  object\n",
            " 2   Reviewer_Name     64529 non-null  object\n",
            " 3   helpful           64529 non-null  object\n",
            " 4   Review_Text       64529 non-null  object\n",
            " 5   Rating            64529 non-null  int64 \n",
            " 6   summary           64529 non-null  object\n",
            " 7   Unix_Review_Time  64529 non-null  int64 \n",
            " 8   Review_Time       64529 non-null  object\n",
            "dtypes: int64(2), object(7)\n",
            "memory usage: 4.9+ MB\n"
          ]
        }
      ],
      "source": [
        "data_review_DM.info()"
      ]
    },
    {
      "cell_type": "code",
      "execution_count": null,
      "id": "d0a64072",
      "metadata": {
        "id": "d0a64072",
        "outputId": "4d08e772-410b-4c48-9a93-9699ec5749c1"
      },
      "outputs": [
        {
          "data": {
            "text/plain": [
              "Reviewer_ID         0\n",
              "asin                0\n",
              "Reviewer_Name       0\n",
              "helpful             0\n",
              "Review_Text         0\n",
              "Rating              0\n",
              "summary             0\n",
              "Unix_Review_Time    0\n",
              "Review_Time         0\n",
              "dtype: int64"
            ]
          },
          "execution_count": 136,
          "metadata": {},
          "output_type": "execute_result"
        }
      ],
      "source": [
        "data_review_DM.isnull().sum()"
      ]
    },
    {
      "cell_type": "markdown",
      "id": "07041e3e",
      "metadata": {
        "id": "07041e3e"
      },
      "source": [
        "### Convert 'Review_Time' Object To DateTime"
      ]
    },
    {
      "cell_type": "code",
      "execution_count": null,
      "id": "40f1e97c",
      "metadata": {
        "id": "40f1e97c",
        "outputId": "1eb5e4cb-28d7-46cf-a8c5-49836e0baec3"
      },
      "outputs": [
        {
          "data": {
            "text/html": [
              "<div>\n",
              "<style scoped>\n",
              "    .dataframe tbody tr th:only-of-type {\n",
              "        vertical-align: middle;\n",
              "    }\n",
              "\n",
              "    .dataframe tbody tr th {\n",
              "        vertical-align: top;\n",
              "    }\n",
              "\n",
              "    .dataframe thead th {\n",
              "        text-align: right;\n",
              "    }\n",
              "</style>\n",
              "<table border=\"1\" class=\"dataframe\">\n",
              "  <thead>\n",
              "    <tr style=\"text-align: right;\">\n",
              "      <th></th>\n",
              "      <th>Reviewer_ID</th>\n",
              "      <th>asin</th>\n",
              "      <th>Reviewer_Name</th>\n",
              "      <th>helpful</th>\n",
              "      <th>Review_Text</th>\n",
              "      <th>Rating</th>\n",
              "      <th>summary</th>\n",
              "      <th>Unix_Review_Time</th>\n",
              "      <th>Review_Time</th>\n",
              "    </tr>\n",
              "  </thead>\n",
              "  <tbody>\n",
              "    <tr>\n",
              "      <th>0</th>\n",
              "      <td>A3EBHHCZO6V2A4</td>\n",
              "      <td>5555991584</td>\n",
              "      <td>Amaranth \"music fan\"</td>\n",
              "      <td>[3, 3]</td>\n",
              "      <td>It's hard to believe \"Memory of Trees\" came ou...</td>\n",
              "      <td>5</td>\n",
              "      <td>Enya's last great album</td>\n",
              "      <td>1158019200</td>\n",
              "      <td>2006-09-12</td>\n",
              "    </tr>\n",
              "    <tr>\n",
              "      <th>1</th>\n",
              "      <td>AZPWAXJG9OJXV</td>\n",
              "      <td>5555991584</td>\n",
              "      <td>bethtexas</td>\n",
              "      <td>[0, 0]</td>\n",
              "      <td>A clasically-styled and introverted album, Mem...</td>\n",
              "      <td>5</td>\n",
              "      <td>Enya at her most elegant</td>\n",
              "      <td>991526400</td>\n",
              "      <td>2001-06-03</td>\n",
              "    </tr>\n",
              "    <tr>\n",
              "      <th>2</th>\n",
              "      <td>A38IRL0X2T4DPF</td>\n",
              "      <td>5555991584</td>\n",
              "      <td>bob turnley</td>\n",
              "      <td>[2, 2]</td>\n",
              "      <td>I never thought Enya would reach the sublime h...</td>\n",
              "      <td>5</td>\n",
              "      <td>The best so far</td>\n",
              "      <td>1058140800</td>\n",
              "      <td>2003-07-14</td>\n",
              "    </tr>\n",
              "    <tr>\n",
              "      <th>3</th>\n",
              "      <td>A22IK3I6U76GX0</td>\n",
              "      <td>5555991584</td>\n",
              "      <td>Calle</td>\n",
              "      <td>[1, 1]</td>\n",
              "      <td>This is the third review of an irish album I w...</td>\n",
              "      <td>5</td>\n",
              "      <td>Ireland produces good music.</td>\n",
              "      <td>957312000</td>\n",
              "      <td>2000-05-03</td>\n",
              "    </tr>\n",
              "    <tr>\n",
              "      <th>4</th>\n",
              "      <td>A1AISPOIIHTHXX</td>\n",
              "      <td>5555991584</td>\n",
              "      <td>Cloud \"...\"</td>\n",
              "      <td>[1, 1]</td>\n",
              "      <td>Enya, despite being a successful recording art...</td>\n",
              "      <td>4</td>\n",
              "      <td>4.5; music to dream to</td>\n",
              "      <td>1200528000</td>\n",
              "      <td>2008-01-17</td>\n",
              "    </tr>\n",
              "  </tbody>\n",
              "</table>\n",
              "</div>"
            ],
            "text/plain": [
              "      Reviewer_ID        asin         Reviewer_Name helpful  \\\n",
              "0  A3EBHHCZO6V2A4  5555991584  Amaranth \"music fan\"  [3, 3]   \n",
              "1   AZPWAXJG9OJXV  5555991584             bethtexas  [0, 0]   \n",
              "2  A38IRL0X2T4DPF  5555991584           bob turnley  [2, 2]   \n",
              "3  A22IK3I6U76GX0  5555991584                 Calle  [1, 1]   \n",
              "4  A1AISPOIIHTHXX  5555991584           Cloud \"...\"  [1, 1]   \n",
              "\n",
              "                                         Review_Text  Rating  \\\n",
              "0  It's hard to believe \"Memory of Trees\" came ou...       5   \n",
              "1  A clasically-styled and introverted album, Mem...       5   \n",
              "2  I never thought Enya would reach the sublime h...       5   \n",
              "3  This is the third review of an irish album I w...       5   \n",
              "4  Enya, despite being a successful recording art...       4   \n",
              "\n",
              "                        summary  Unix_Review_Time Review_Time  \n",
              "0       Enya's last great album        1158019200  2006-09-12  \n",
              "1      Enya at her most elegant         991526400  2001-06-03  \n",
              "2               The best so far        1058140800  2003-07-14  \n",
              "3  Ireland produces good music.         957312000  2000-05-03  \n",
              "4        4.5; music to dream to        1200528000  2008-01-17  "
            ]
          },
          "execution_count": 137,
          "metadata": {},
          "output_type": "execute_result"
        }
      ],
      "source": [
        "data_review_DM['Review_Time'] = pd.to_datetime(data_review_DM['Review_Time'])\n",
        "data_review_DM.head()"
      ]
    },
    {
      "cell_type": "code",
      "execution_count": null,
      "id": "be6dcc11",
      "metadata": {
        "id": "be6dcc11",
        "outputId": "76b9889d-1dca-45b3-8c1b-95d28b561ca0"
      },
      "outputs": [
        {
          "data": {
            "text/plain": [
              "array([\"Enya's last great album\", 'Enya at her most elegant',\n",
              "       'The best so far', ..., 'Highway 2000 Revisited',\n",
              "       'Well-crafted song', 'Souless Reggae'], dtype=object)"
            ]
          },
          "execution_count": 138,
          "metadata": {},
          "output_type": "execute_result"
        }
      ],
      "source": [
        "data_review_DM.summary.unique()"
      ]
    },
    {
      "cell_type": "markdown",
      "id": "897e9e47",
      "metadata": {
        "id": "897e9e47"
      },
      "source": [
        "### Split 'helpful' Column Into 'Review_Likes' and 'Review_Dislikes' and Drop It At The End"
      ]
    },
    {
      "cell_type": "code",
      "execution_count": null,
      "id": "a9148200",
      "metadata": {
        "id": "a9148200",
        "outputId": "92fd0a87-be4e-4ee5-b549-c9989c06cfe1"
      },
      "outputs": [
        {
          "data": {
            "text/html": [
              "<div>\n",
              "<style scoped>\n",
              "    .dataframe tbody tr th:only-of-type {\n",
              "        vertical-align: middle;\n",
              "    }\n",
              "\n",
              "    .dataframe tbody tr th {\n",
              "        vertical-align: top;\n",
              "    }\n",
              "\n",
              "    .dataframe thead th {\n",
              "        text-align: right;\n",
              "    }\n",
              "</style>\n",
              "<table border=\"1\" class=\"dataframe\">\n",
              "  <thead>\n",
              "    <tr style=\"text-align: right;\">\n",
              "      <th></th>\n",
              "      <th>Reviewer_ID</th>\n",
              "      <th>asin</th>\n",
              "      <th>Reviewer_Name</th>\n",
              "      <th>Review_Text</th>\n",
              "      <th>Rating</th>\n",
              "      <th>summary</th>\n",
              "      <th>Unix_Review_Time</th>\n",
              "      <th>Review_Time</th>\n",
              "      <th>Review_Likes</th>\n",
              "      <th>Review_Dislikes</th>\n",
              "    </tr>\n",
              "  </thead>\n",
              "  <tbody>\n",
              "    <tr>\n",
              "      <th>0</th>\n",
              "      <td>A3EBHHCZO6V2A4</td>\n",
              "      <td>5555991584</td>\n",
              "      <td>Amaranth \"music fan\"</td>\n",
              "      <td>It's hard to believe \"Memory of Trees\" came ou...</td>\n",
              "      <td>5</td>\n",
              "      <td>Enya's last great album</td>\n",
              "      <td>1158019200</td>\n",
              "      <td>2006-09-12</td>\n",
              "      <td>3</td>\n",
              "      <td>0</td>\n",
              "    </tr>\n",
              "    <tr>\n",
              "      <th>1</th>\n",
              "      <td>AZPWAXJG9OJXV</td>\n",
              "      <td>5555991584</td>\n",
              "      <td>bethtexas</td>\n",
              "      <td>A clasically-styled and introverted album, Mem...</td>\n",
              "      <td>5</td>\n",
              "      <td>Enya at her most elegant</td>\n",
              "      <td>991526400</td>\n",
              "      <td>2001-06-03</td>\n",
              "      <td>0</td>\n",
              "      <td>0</td>\n",
              "    </tr>\n",
              "    <tr>\n",
              "      <th>2</th>\n",
              "      <td>A38IRL0X2T4DPF</td>\n",
              "      <td>5555991584</td>\n",
              "      <td>bob turnley</td>\n",
              "      <td>I never thought Enya would reach the sublime h...</td>\n",
              "      <td>5</td>\n",
              "      <td>The best so far</td>\n",
              "      <td>1058140800</td>\n",
              "      <td>2003-07-14</td>\n",
              "      <td>2</td>\n",
              "      <td>0</td>\n",
              "    </tr>\n",
              "    <tr>\n",
              "      <th>3</th>\n",
              "      <td>A22IK3I6U76GX0</td>\n",
              "      <td>5555991584</td>\n",
              "      <td>Calle</td>\n",
              "      <td>This is the third review of an irish album I w...</td>\n",
              "      <td>5</td>\n",
              "      <td>Ireland produces good music.</td>\n",
              "      <td>957312000</td>\n",
              "      <td>2000-05-03</td>\n",
              "      <td>1</td>\n",
              "      <td>0</td>\n",
              "    </tr>\n",
              "    <tr>\n",
              "      <th>4</th>\n",
              "      <td>A1AISPOIIHTHXX</td>\n",
              "      <td>5555991584</td>\n",
              "      <td>Cloud \"...\"</td>\n",
              "      <td>Enya, despite being a successful recording art...</td>\n",
              "      <td>4</td>\n",
              "      <td>4.5; music to dream to</td>\n",
              "      <td>1200528000</td>\n",
              "      <td>2008-01-17</td>\n",
              "      <td>1</td>\n",
              "      <td>0</td>\n",
              "    </tr>\n",
              "  </tbody>\n",
              "</table>\n",
              "</div>"
            ],
            "text/plain": [
              "      Reviewer_ID        asin         Reviewer_Name  \\\n",
              "0  A3EBHHCZO6V2A4  5555991584  Amaranth \"music fan\"   \n",
              "1   AZPWAXJG9OJXV  5555991584             bethtexas   \n",
              "2  A38IRL0X2T4DPF  5555991584           bob turnley   \n",
              "3  A22IK3I6U76GX0  5555991584                 Calle   \n",
              "4  A1AISPOIIHTHXX  5555991584           Cloud \"...\"   \n",
              "\n",
              "                                         Review_Text  Rating  \\\n",
              "0  It's hard to believe \"Memory of Trees\" came ou...       5   \n",
              "1  A clasically-styled and introverted album, Mem...       5   \n",
              "2  I never thought Enya would reach the sublime h...       5   \n",
              "3  This is the third review of an irish album I w...       5   \n",
              "4  Enya, despite being a successful recording art...       4   \n",
              "\n",
              "                        summary  Unix_Review_Time Review_Time  Review_Likes  \\\n",
              "0       Enya's last great album        1158019200  2006-09-12             3   \n",
              "1      Enya at her most elegant         991526400  2001-06-03             0   \n",
              "2               The best so far        1058140800  2003-07-14             2   \n",
              "3  Ireland produces good music.         957312000  2000-05-03             1   \n",
              "4        4.5; music to dream to        1200528000  2008-01-17             1   \n",
              "\n",
              "   Review_Dislikes  \n",
              "0                0  \n",
              "1                0  \n",
              "2                0  \n",
              "3                0  \n",
              "4                0  "
            ]
          },
          "execution_count": 139,
          "metadata": {},
          "output_type": "execute_result"
        }
      ],
      "source": [
        "list_likes = []\n",
        "list_dislikes = []\n",
        "for x in data_review_DM['helpful']:\n",
        "    list_likes.append(x[0])\n",
        "    list_dislikes.append(x[1] - x[0])\n",
        "data_review_DM['Review_Likes'] = list_likes\n",
        "data_review_DM['Review_Dislikes'] = list_dislikes\n",
        "data_review_DM = data_review_DM.drop('helpful', axis = 1)\n",
        "data_review_DM.head()"
      ]
    },
    {
      "cell_type": "code",
      "execution_count": null,
      "id": "8b19d14f",
      "metadata": {
        "id": "8b19d14f",
        "outputId": "622bab03-0c9c-42b6-b693-f624a54236eb"
      },
      "outputs": [
        {
          "data": {
            "text/plain": [
              "array([5, 4, 3, 1, 2], dtype=int64)"
            ]
          },
          "execution_count": 140,
          "metadata": {},
          "output_type": "execute_result"
        }
      ],
      "source": [
        "data_review_DM.Rating.unique()"
      ]
    },
    {
      "cell_type": "markdown",
      "id": "d6462ef4",
      "metadata": {
        "id": "d6462ef4"
      },
      "source": [
        "### Classifying Ratings as 'good','bad','neutral'"
      ]
    },
    {
      "cell_type": "code",
      "execution_count": null,
      "id": "1e34aa77",
      "metadata": {
        "id": "1e34aa77",
        "outputId": "8f1c942b-5c36-4fe9-b5e3-a52b3045658d"
      },
      "outputs": [
        {
          "name": "stdout",
          "output_type": "stream",
          "text": [
            "Good ratings : 52000 are having positive reviews\n",
            "neutral ratings : 6768 are having neutral reviews\n",
            "Bad ratings : 5761 are having negative reviews\n"
          ]
        }
      ],
      "source": [
        "good_rate = len(data_review_DM[data_review_DM['Rating'] > 3])\n",
        "neutral_rate = len(data_review_DM[data_review_DM['Rating'] == 3])\n",
        "bad_rate = len(data_review_DM[data_review_DM['Rating'] < 3])\n",
        "\n",
        "# Printing rates and their total numbers\n",
        "print ('Good ratings : {} are having positive reviews'.format(good_rate))\n",
        "print ('neutral ratings : {} are having neutral reviews'.format(neutral_rate))\n",
        "print ('Bad ratings : {} are having negative reviews'.format(bad_rate))"
      ]
    },
    {
      "cell_type": "code",
      "execution_count": null,
      "id": "6d01196a",
      "metadata": {
        "id": "6d01196a",
        "outputId": "b601382d-f349-40fc-d216-30227baa05c3"
      },
      "outputs": [
        {
          "data": {
            "text/html": [
              "<div>\n",
              "<style scoped>\n",
              "    .dataframe tbody tr th:only-of-type {\n",
              "        vertical-align: middle;\n",
              "    }\n",
              "\n",
              "    .dataframe tbody tr th {\n",
              "        vertical-align: top;\n",
              "    }\n",
              "\n",
              "    .dataframe thead th {\n",
              "        text-align: right;\n",
              "    }\n",
              "</style>\n",
              "<table border=\"1\" class=\"dataframe\">\n",
              "  <thead>\n",
              "    <tr style=\"text-align: right;\">\n",
              "      <th></th>\n",
              "      <th>Reviewer_ID</th>\n",
              "      <th>asin</th>\n",
              "      <th>Reviewer_Name</th>\n",
              "      <th>Review_Text</th>\n",
              "      <th>Rating</th>\n",
              "      <th>summary</th>\n",
              "      <th>Unix_Review_Time</th>\n",
              "      <th>Review_Time</th>\n",
              "      <th>Review_Likes</th>\n",
              "      <th>Review_Dislikes</th>\n",
              "      <th>Rating_Category</th>\n",
              "    </tr>\n",
              "  </thead>\n",
              "  <tbody>\n",
              "    <tr>\n",
              "      <th>0</th>\n",
              "      <td>A3EBHHCZO6V2A4</td>\n",
              "      <td>5555991584</td>\n",
              "      <td>Amaranth \"music fan\"</td>\n",
              "      <td>It's hard to believe \"Memory of Trees\" came ou...</td>\n",
              "      <td>5</td>\n",
              "      <td>Enya's last great album</td>\n",
              "      <td>1158019200</td>\n",
              "      <td>2006-09-12</td>\n",
              "      <td>3</td>\n",
              "      <td>0</td>\n",
              "      <td>good</td>\n",
              "    </tr>\n",
              "    <tr>\n",
              "      <th>1</th>\n",
              "      <td>AZPWAXJG9OJXV</td>\n",
              "      <td>5555991584</td>\n",
              "      <td>bethtexas</td>\n",
              "      <td>A clasically-styled and introverted album, Mem...</td>\n",
              "      <td>5</td>\n",
              "      <td>Enya at her most elegant</td>\n",
              "      <td>991526400</td>\n",
              "      <td>2001-06-03</td>\n",
              "      <td>0</td>\n",
              "      <td>0</td>\n",
              "      <td>good</td>\n",
              "    </tr>\n",
              "    <tr>\n",
              "      <th>2</th>\n",
              "      <td>A38IRL0X2T4DPF</td>\n",
              "      <td>5555991584</td>\n",
              "      <td>bob turnley</td>\n",
              "      <td>I never thought Enya would reach the sublime h...</td>\n",
              "      <td>5</td>\n",
              "      <td>The best so far</td>\n",
              "      <td>1058140800</td>\n",
              "      <td>2003-07-14</td>\n",
              "      <td>2</td>\n",
              "      <td>0</td>\n",
              "      <td>good</td>\n",
              "    </tr>\n",
              "    <tr>\n",
              "      <th>3</th>\n",
              "      <td>A22IK3I6U76GX0</td>\n",
              "      <td>5555991584</td>\n",
              "      <td>Calle</td>\n",
              "      <td>This is the third review of an irish album I w...</td>\n",
              "      <td>5</td>\n",
              "      <td>Ireland produces good music.</td>\n",
              "      <td>957312000</td>\n",
              "      <td>2000-05-03</td>\n",
              "      <td>1</td>\n",
              "      <td>0</td>\n",
              "      <td>good</td>\n",
              "    </tr>\n",
              "    <tr>\n",
              "      <th>4</th>\n",
              "      <td>A1AISPOIIHTHXX</td>\n",
              "      <td>5555991584</td>\n",
              "      <td>Cloud \"...\"</td>\n",
              "      <td>Enya, despite being a successful recording art...</td>\n",
              "      <td>4</td>\n",
              "      <td>4.5; music to dream to</td>\n",
              "      <td>1200528000</td>\n",
              "      <td>2008-01-17</td>\n",
              "      <td>1</td>\n",
              "      <td>0</td>\n",
              "      <td>good</td>\n",
              "    </tr>\n",
              "  </tbody>\n",
              "</table>\n",
              "</div>"
            ],
            "text/plain": [
              "      Reviewer_ID        asin         Reviewer_Name  \\\n",
              "0  A3EBHHCZO6V2A4  5555991584  Amaranth \"music fan\"   \n",
              "1   AZPWAXJG9OJXV  5555991584             bethtexas   \n",
              "2  A38IRL0X2T4DPF  5555991584           bob turnley   \n",
              "3  A22IK3I6U76GX0  5555991584                 Calle   \n",
              "4  A1AISPOIIHTHXX  5555991584           Cloud \"...\"   \n",
              "\n",
              "                                         Review_Text  Rating  \\\n",
              "0  It's hard to believe \"Memory of Trees\" came ou...       5   \n",
              "1  A clasically-styled and introverted album, Mem...       5   \n",
              "2  I never thought Enya would reach the sublime h...       5   \n",
              "3  This is the third review of an irish album I w...       5   \n",
              "4  Enya, despite being a successful recording art...       4   \n",
              "\n",
              "                        summary  Unix_Review_Time Review_Time  Review_Likes  \\\n",
              "0       Enya's last great album        1158019200  2006-09-12             3   \n",
              "1      Enya at her most elegant         991526400  2001-06-03             0   \n",
              "2               The best so far        1058140800  2003-07-14             2   \n",
              "3  Ireland produces good music.         957312000  2000-05-03             1   \n",
              "4        4.5; music to dream to        1200528000  2008-01-17             1   \n",
              "\n",
              "   Review_Dislikes Rating_Category  \n",
              "0                0            good  \n",
              "1                0            good  \n",
              "2                0            good  \n",
              "3                0            good  \n",
              "4                0            good  "
            ]
          },
          "execution_count": 142,
          "metadata": {},
          "output_type": "execute_result"
        }
      ],
      "source": [
        "data_review_DM['Rating_Category'] = data_review_DM['Rating'].apply(lambda x: 'bad' if x < 3 else('neutral' if x == 3 else 'good'))\n",
        "data_review_DM.head()"
      ]
    },
    {
      "cell_type": "markdown",
      "id": "0557414d",
      "metadata": {
        "id": "0557414d"
      },
      "source": [
        "### Checking For Duplicated Values"
      ]
    },
    {
      "cell_type": "code",
      "execution_count": null,
      "id": "d76a67a7",
      "metadata": {
        "id": "d76a67a7",
        "outputId": "147275af-60be-4a3e-a4ba-c84e74afd265"
      },
      "outputs": [
        {
          "data": {
            "text/html": [
              "<div>\n",
              "<style scoped>\n",
              "    .dataframe tbody tr th:only-of-type {\n",
              "        vertical-align: middle;\n",
              "    }\n",
              "\n",
              "    .dataframe tbody tr th {\n",
              "        vertical-align: top;\n",
              "    }\n",
              "\n",
              "    .dataframe thead th {\n",
              "        text-align: right;\n",
              "    }\n",
              "</style>\n",
              "<table border=\"1\" class=\"dataframe\">\n",
              "  <thead>\n",
              "    <tr style=\"text-align: right;\">\n",
              "      <th></th>\n",
              "      <th>Reviewer_ID</th>\n",
              "      <th>asin</th>\n",
              "      <th>Reviewer_Name</th>\n",
              "      <th>Review_Text</th>\n",
              "      <th>Rating</th>\n",
              "      <th>summary</th>\n",
              "      <th>Unix_Review_Time</th>\n",
              "      <th>Review_Time</th>\n",
              "      <th>Review_Likes</th>\n",
              "      <th>Review_Dislikes</th>\n",
              "      <th>Rating_Category</th>\n",
              "    </tr>\n",
              "  </thead>\n",
              "  <tbody>\n",
              "    <tr>\n",
              "      <th>6460</th>\n",
              "      <td>A1U996YEDDRCD7</td>\n",
              "      <td>B0000024JN</td>\n",
              "      <td>A Customer</td>\n",
              "      <td>Whether you're listening to this CD in year 19...</td>\n",
              "      <td>5</td>\n",
              "      <td>Timeless</td>\n",
              "      <td>1094428800</td>\n",
              "      <td>2004-09-06</td>\n",
              "      <td>3</td>\n",
              "      <td>0</td>\n",
              "      <td>good</td>\n",
              "    </tr>\n",
              "    <tr>\n",
              "      <th>6461</th>\n",
              "      <td>A20OAPE0RCEJ9P</td>\n",
              "      <td>B0000024JN</td>\n",
              "      <td>A Customer</td>\n",
              "      <td>No one expected the Beastie Boys to last as lo...</td>\n",
              "      <td>5</td>\n",
              "      <td>Debut album that packs a punch</td>\n",
              "      <td>1089590400</td>\n",
              "      <td>2004-07-12</td>\n",
              "      <td>6</td>\n",
              "      <td>1</td>\n",
              "      <td>good</td>\n",
              "    </tr>\n",
              "    <tr>\n",
              "      <th>8766</th>\n",
              "      <td>AA6H6458HIPHL</td>\n",
              "      <td>B0000025YO</td>\n",
              "      <td>Amazon Customer</td>\n",
              "      <td>Oh course this is simply my personal opinion. ...</td>\n",
              "      <td>5</td>\n",
              "      <td>THEIR FIRST &amp; THEIR BEST</td>\n",
              "      <td>1377043200</td>\n",
              "      <td>2013-08-21</td>\n",
              "      <td>0</td>\n",
              "      <td>0</td>\n",
              "      <td>good</td>\n",
              "    </tr>\n",
              "    <tr>\n",
              "      <th>8767</th>\n",
              "      <td>AELL37SY6YIYO</td>\n",
              "      <td>B0000025YO</td>\n",
              "      <td>Amazon Customer</td>\n",
              "      <td>This is a really good album by the Bangles. It...</td>\n",
              "      <td>5</td>\n",
              "      <td>Short but sweet</td>\n",
              "      <td>1266796800</td>\n",
              "      <td>2010-02-22</td>\n",
              "      <td>3</td>\n",
              "      <td>1</td>\n",
              "      <td>good</td>\n",
              "    </tr>\n",
              "    <tr>\n",
              "      <th>9769</th>\n",
              "      <td>A1QTCH9VEYHF8P</td>\n",
              "      <td>B0000028RR</td>\n",
              "      <td>Nick</td>\n",
              "      <td>You remember back in `92 when you were sitting...</td>\n",
              "      <td>5</td>\n",
              "      <td>Ahhhh...</td>\n",
              "      <td>1071360000</td>\n",
              "      <td>2003-12-14</td>\n",
              "      <td>0</td>\n",
              "      <td>0</td>\n",
              "      <td>good</td>\n",
              "    </tr>\n",
              "    <tr>\n",
              "      <th>...</th>\n",
              "      <td>...</td>\n",
              "      <td>...</td>\n",
              "      <td>...</td>\n",
              "      <td>...</td>\n",
              "      <td>...</td>\n",
              "      <td>...</td>\n",
              "      <td>...</td>\n",
              "      <td>...</td>\n",
              "      <td>...</td>\n",
              "      <td>...</td>\n",
              "      <td>...</td>\n",
              "    </tr>\n",
              "    <tr>\n",
              "      <th>62950</th>\n",
              "      <td>AXPAIEE0732A9</td>\n",
              "      <td>B009G8GTFM</td>\n",
              "      <td>Amazon Customer</td>\n",
              "      <td>This is my favorite song on the album.  I feel...</td>\n",
              "      <td>4</td>\n",
              "      <td>Good track</td>\n",
              "      <td>1362182400</td>\n",
              "      <td>2013-03-02</td>\n",
              "      <td>0</td>\n",
              "      <td>0</td>\n",
              "      <td>good</td>\n",
              "    </tr>\n",
              "    <tr>\n",
              "      <th>63003</th>\n",
              "      <td>AAO1GG47I67R9</td>\n",
              "      <td>B009KGKF3M</td>\n",
              "      <td>Amazon Customer</td>\n",
              "      <td>I like this song a lot. My favorite part is de...</td>\n",
              "      <td>4</td>\n",
              "      <td>Great song</td>\n",
              "      <td>1356048000</td>\n",
              "      <td>2012-12-21</td>\n",
              "      <td>0</td>\n",
              "      <td>0</td>\n",
              "      <td>good</td>\n",
              "    </tr>\n",
              "    <tr>\n",
              "      <th>63004</th>\n",
              "      <td>A14YZ43JUA3ULY</td>\n",
              "      <td>B009KGKF3M</td>\n",
              "      <td>Amazon Customer</td>\n",
              "      <td>I love this song ever since I first heard on t...</td>\n",
              "      <td>5</td>\n",
              "      <td>Nice Song</td>\n",
              "      <td>1363305600</td>\n",
              "      <td>2013-03-15</td>\n",
              "      <td>0</td>\n",
              "      <td>0</td>\n",
              "      <td>good</td>\n",
              "    </tr>\n",
              "    <tr>\n",
              "      <th>64347</th>\n",
              "      <td>A1I8BJY2M3A4CO</td>\n",
              "      <td>B00FAEQ22G</td>\n",
              "      <td>Amazon Customer</td>\n",
              "      <td>This band is quite unique and I love the sound...</td>\n",
              "      <td>5</td>\n",
              "      <td>Great song</td>\n",
              "      <td>1388707200</td>\n",
              "      <td>2014-01-03</td>\n",
              "      <td>0</td>\n",
              "      <td>0</td>\n",
              "      <td>good</td>\n",
              "    </tr>\n",
              "    <tr>\n",
              "      <th>64348</th>\n",
              "      <td>AXPAIEE0732A9</td>\n",
              "      <td>B00FAEQ22G</td>\n",
              "      <td>Amazon Customer</td>\n",
              "      <td>Ok, I don't want to admit to liking this song,...</td>\n",
              "      <td>3</td>\n",
              "      <td>Stuck in my head...</td>\n",
              "      <td>1382659200</td>\n",
              "      <td>2013-10-25</td>\n",
              "      <td>0</td>\n",
              "      <td>1</td>\n",
              "      <td>neutral</td>\n",
              "    </tr>\n",
              "  </tbody>\n",
              "</table>\n",
              "<p>86 rows × 11 columns</p>\n",
              "</div>"
            ],
            "text/plain": [
              "          Reviewer_ID        asin    Reviewer_Name  \\\n",
              "6460   A1U996YEDDRCD7  B0000024JN       A Customer   \n",
              "6461   A20OAPE0RCEJ9P  B0000024JN       A Customer   \n",
              "8766    AA6H6458HIPHL  B0000025YO  Amazon Customer   \n",
              "8767    AELL37SY6YIYO  B0000025YO  Amazon Customer   \n",
              "9769   A1QTCH9VEYHF8P  B0000028RR             Nick   \n",
              "...               ...         ...              ...   \n",
              "62950   AXPAIEE0732A9  B009G8GTFM  Amazon Customer   \n",
              "63003   AAO1GG47I67R9  B009KGKF3M  Amazon Customer   \n",
              "63004  A14YZ43JUA3ULY  B009KGKF3M  Amazon Customer   \n",
              "64347  A1I8BJY2M3A4CO  B00FAEQ22G  Amazon Customer   \n",
              "64348   AXPAIEE0732A9  B00FAEQ22G  Amazon Customer   \n",
              "\n",
              "                                             Review_Text  Rating  \\\n",
              "6460   Whether you're listening to this CD in year 19...       5   \n",
              "6461   No one expected the Beastie Boys to last as lo...       5   \n",
              "8766   Oh course this is simply my personal opinion. ...       5   \n",
              "8767   This is a really good album by the Bangles. It...       5   \n",
              "9769   You remember back in `92 when you were sitting...       5   \n",
              "...                                                  ...     ...   \n",
              "62950  This is my favorite song on the album.  I feel...       4   \n",
              "63003  I like this song a lot. My favorite part is de...       4   \n",
              "63004  I love this song ever since I first heard on t...       5   \n",
              "64347  This band is quite unique and I love the sound...       5   \n",
              "64348  Ok, I don't want to admit to liking this song,...       3   \n",
              "\n",
              "                              summary  Unix_Review_Time Review_Time  \\\n",
              "6460                         Timeless        1094428800  2004-09-06   \n",
              "6461   Debut album that packs a punch        1089590400  2004-07-12   \n",
              "8766         THEIR FIRST & THEIR BEST        1377043200  2013-08-21   \n",
              "8767                  Short but sweet        1266796800  2010-02-22   \n",
              "9769                         Ahhhh...        1071360000  2003-12-14   \n",
              "...                               ...               ...         ...   \n",
              "62950                      Good track        1362182400  2013-03-02   \n",
              "63003                      Great song        1356048000  2012-12-21   \n",
              "63004                       Nice Song        1363305600  2013-03-15   \n",
              "64347                      Great song        1388707200  2014-01-03   \n",
              "64348             Stuck in my head...        1382659200  2013-10-25   \n",
              "\n",
              "       Review_Likes  Review_Dislikes Rating_Category  \n",
              "6460              3                0            good  \n",
              "6461              6                1            good  \n",
              "8766              0                0            good  \n",
              "8767              3                1            good  \n",
              "9769              0                0            good  \n",
              "...             ...              ...             ...  \n",
              "62950             0                0            good  \n",
              "63003             0                0            good  \n",
              "63004             0                0            good  \n",
              "64347             0                0            good  \n",
              "64348             0                1         neutral  \n",
              "\n",
              "[86 rows x 11 columns]"
            ]
          },
          "execution_count": 143,
          "metadata": {},
          "output_type": "execute_result"
        }
      ],
      "source": [
        "data_review_DM[data_review_DM.duplicated(['Reviewer_Name','asin'],keep= False)]"
      ]
    },
    {
      "cell_type": "code",
      "execution_count": null,
      "id": "72761204",
      "metadata": {
        "id": "72761204",
        "outputId": "5db51955-8a3c-481f-a94b-edb2404d89d5"
      },
      "outputs": [
        {
          "data": {
            "text/plain": [
              "(64529, 11)"
            ]
          },
          "execution_count": 144,
          "metadata": {},
          "output_type": "execute_result"
        }
      ],
      "source": [
        "data_review_DM.shape"
      ]
    },
    {
      "cell_type": "markdown",
      "id": "3d04c912",
      "metadata": {
        "id": "3d04c912"
      },
      "source": [
        "### Dropping Duplicated Values In 'asin','Reviewer_Name'"
      ]
    },
    {
      "cell_type": "code",
      "execution_count": null,
      "id": "0e4f34cd",
      "metadata": {
        "id": "0e4f34cd"
      },
      "outputs": [],
      "source": [
        "data_review_DM = data_review_DM.drop_duplicates(['asin', 'Reviewer_Name'], keep = 'first')"
      ]
    },
    {
      "cell_type": "code",
      "execution_count": null,
      "id": "8233d760",
      "metadata": {
        "id": "8233d760",
        "outputId": "36dafd74-184c-49c3-b0fe-2713050ed144"
      },
      "outputs": [
        {
          "data": {
            "text/plain": [
              "(64484, 11)"
            ]
          },
          "execution_count": 146,
          "metadata": {},
          "output_type": "execute_result"
        }
      ],
      "source": [
        "data_review_DM.shape"
      ]
    },
    {
      "cell_type": "markdown",
      "id": "c6260319",
      "metadata": {
        "id": "c6260319"
      },
      "source": [
        "### Descriptive Statistics"
      ]
    },
    {
      "cell_type": "code",
      "execution_count": null,
      "id": "1a52fd5a",
      "metadata": {
        "id": "1a52fd5a",
        "outputId": "60c141dd-5bcd-445c-8649-21c6e0e6bdb4"
      },
      "outputs": [
        {
          "name": "stdout",
          "output_type": "stream",
          "text": [
            "Number of reviews:  64484\n",
            "Number of unique reviewers:  5540\n",
            "Average rating score:  4.224\n"
          ]
        }
      ],
      "source": [
        "# Total reviews\n",
        "total = len(data_review_DM)\n",
        "print (\"Number of reviews: \",total)\n",
        "\n",
        "# How many unique reviewers\n",
        "print (\"Number of unique reviewers: \",len(data_review_DM.Reviewer_ID.unique()))\n",
        "reviewer_prop = float(len(data_review_DM.Reviewer_ID.unique())/total)\n",
        "\n",
        "\n",
        "# Average rating score\n",
        "print (\"Average rating score: \",round(data_review_DM.Rating.mean(),3))\n"
      ]
    },
    {
      "cell_type": "code",
      "execution_count": null,
      "id": "c4f74080",
      "metadata": {
        "id": "c4f74080",
        "outputId": "f5a4dec4-ff46-4fc7-b638-098e8eedd9a6"
      },
      "outputs": [
        {
          "name": "stdout",
          "output_type": "stream",
          "text": [
            "<class 'pandas.core.frame.DataFrame'>\n",
            "Int64Index: 64484 entries, 0 to 64705\n",
            "Data columns (total 11 columns):\n",
            " #   Column            Non-Null Count  Dtype         \n",
            "---  ------            --------------  -----         \n",
            " 0   Reviewer_ID       64484 non-null  object        \n",
            " 1   asin              64484 non-null  object        \n",
            " 2   Reviewer_Name     64484 non-null  object        \n",
            " 3   Review_Text       64484 non-null  object        \n",
            " 4   Rating            64484 non-null  int64         \n",
            " 5   summary           64484 non-null  object        \n",
            " 6   Unix_Review_Time  64484 non-null  int64         \n",
            " 7   Review_Time       64484 non-null  datetime64[ns]\n",
            " 8   Review_Likes      64484 non-null  int64         \n",
            " 9   Review_Dislikes   64484 non-null  int64         \n",
            " 10  Rating_Category   64484 non-null  object        \n",
            "dtypes: datetime64[ns](1), int64(4), object(6)\n",
            "memory usage: 5.9+ MB\n"
          ]
        }
      ],
      "source": [
        "data_review_DM.info()"
      ]
    },
    {
      "cell_type": "code",
      "execution_count": null,
      "id": "3d60d248",
      "metadata": {
        "id": "3d60d248",
        "outputId": "202ba288-6ff7-46da-d9eb-6492dab53fb4"
      },
      "outputs": [
        {
          "data": {
            "text/html": [
              "<div>\n",
              "<style scoped>\n",
              "    .dataframe tbody tr th:only-of-type {\n",
              "        vertical-align: middle;\n",
              "    }\n",
              "\n",
              "    .dataframe tbody tr th {\n",
              "        vertical-align: top;\n",
              "    }\n",
              "\n",
              "    .dataframe thead th {\n",
              "        text-align: right;\n",
              "    }\n",
              "</style>\n",
              "<table border=\"1\" class=\"dataframe\">\n",
              "  <thead>\n",
              "    <tr style=\"text-align: right;\">\n",
              "      <th></th>\n",
              "      <th>Rating</th>\n",
              "      <th>Review_Likes</th>\n",
              "      <th>Review_Dislikes</th>\n",
              "    </tr>\n",
              "  </thead>\n",
              "  <tbody>\n",
              "    <tr>\n",
              "      <th>count</th>\n",
              "      <td>64484.000000</td>\n",
              "      <td>64484.000000</td>\n",
              "      <td>64484.000000</td>\n",
              "    </tr>\n",
              "    <tr>\n",
              "      <th>mean</th>\n",
              "      <td>4.224211</td>\n",
              "      <td>3.700639</td>\n",
              "      <td>1.582532</td>\n",
              "    </tr>\n",
              "    <tr>\n",
              "      <th>std</th>\n",
              "      <td>1.083980</td>\n",
              "      <td>10.877477</td>\n",
              "      <td>4.614181</td>\n",
              "    </tr>\n",
              "    <tr>\n",
              "      <th>min</th>\n",
              "      <td>1.000000</td>\n",
              "      <td>0.000000</td>\n",
              "      <td>0.000000</td>\n",
              "    </tr>\n",
              "    <tr>\n",
              "      <th>25%</th>\n",
              "      <td>4.000000</td>\n",
              "      <td>0.000000</td>\n",
              "      <td>0.000000</td>\n",
              "    </tr>\n",
              "    <tr>\n",
              "      <th>50%</th>\n",
              "      <td>5.000000</td>\n",
              "      <td>1.000000</td>\n",
              "      <td>0.000000</td>\n",
              "    </tr>\n",
              "    <tr>\n",
              "      <th>75%</th>\n",
              "      <td>5.000000</td>\n",
              "      <td>3.000000</td>\n",
              "      <td>1.000000</td>\n",
              "    </tr>\n",
              "    <tr>\n",
              "      <th>max</th>\n",
              "      <td>5.000000</td>\n",
              "      <td>537.000000</td>\n",
              "      <td>190.000000</td>\n",
              "    </tr>\n",
              "  </tbody>\n",
              "</table>\n",
              "</div>"
            ],
            "text/plain": [
              "             Rating  Review_Likes  Review_Dislikes\n",
              "count  64484.000000  64484.000000     64484.000000\n",
              "mean       4.224211      3.700639         1.582532\n",
              "std        1.083980     10.877477         4.614181\n",
              "min        1.000000      0.000000         0.000000\n",
              "25%        4.000000      0.000000         0.000000\n",
              "50%        5.000000      1.000000         0.000000\n",
              "75%        5.000000      3.000000         1.000000\n",
              "max        5.000000    537.000000       190.000000"
            ]
          },
          "execution_count": 149,
          "metadata": {},
          "output_type": "execute_result"
        }
      ],
      "source": [
        "# Read statistic summary of numeric variables\n",
        "data_review_DM[['Rating','Review_Likes','Review_Dislikes']].describe()"
      ]
    },
    {
      "cell_type": "code",
      "execution_count": null,
      "id": "a913436f",
      "metadata": {
        "id": "a913436f",
        "outputId": "3b03d3e0-0f5f-42d6-a118-4a0adc36f488"
      },
      "outputs": [
        {
          "name": "stdout",
          "output_type": "stream",
          "text": [
            "\n",
            "Number of unique customers : 5540\n",
            "\n",
            "Review per customer: 11.63971119133574\n"
          ]
        }
      ],
      "source": [
        "# Statistics of non-numeric variables\n",
        "\n",
        "# Number of unique customers\n",
        "print('\\nNumber of unique customers : {}'.format(len(data_review_DM['Reviewer_ID'].unique())))\n",
        "\n",
        "      \n",
        "# Review number per unique customer\n",
        "print('\\nReview per customer: {}'.format((len(data_review_DM)/len(data_review_DM['Reviewer_ID'].unique()))))      \n"
      ]
    },
    {
      "cell_type": "code",
      "execution_count": null,
      "id": "28af47d4",
      "metadata": {
        "id": "28af47d4",
        "outputId": "53d25931-fb93-42b9-90a1-9f87d9863816"
      },
      "outputs": [
        {
          "data": {
            "text/html": [
              "<div>\n",
              "<style scoped>\n",
              "    .dataframe tbody tr th:only-of-type {\n",
              "        vertical-align: middle;\n",
              "    }\n",
              "\n",
              "    .dataframe tbody tr th {\n",
              "        vertical-align: top;\n",
              "    }\n",
              "\n",
              "    .dataframe thead th {\n",
              "        text-align: right;\n",
              "    }\n",
              "</style>\n",
              "<table border=\"1\" class=\"dataframe\">\n",
              "  <thead>\n",
              "    <tr style=\"text-align: right;\">\n",
              "      <th></th>\n",
              "      <th>Reviewer_ID</th>\n",
              "      <th>asin</th>\n",
              "      <th>Reviewer_Name</th>\n",
              "      <th>Rating</th>\n",
              "      <th>Unix_Review_Time</th>\n",
              "      <th>Review_Time</th>\n",
              "      <th>Review_Likes</th>\n",
              "      <th>Review_Dislikes</th>\n",
              "      <th>Rating_Category</th>\n",
              "      <th>review_text</th>\n",
              "    </tr>\n",
              "  </thead>\n",
              "  <tbody>\n",
              "    <tr>\n",
              "      <th>0</th>\n",
              "      <td>A3EBHHCZO6V2A4</td>\n",
              "      <td>5555991584</td>\n",
              "      <td>Amaranth \"music fan\"</td>\n",
              "      <td>5</td>\n",
              "      <td>1158019200</td>\n",
              "      <td>2006-09-12</td>\n",
              "      <td>3</td>\n",
              "      <td>0</td>\n",
              "      <td>good</td>\n",
              "      <td>Enya's last great album It's hard to believe \"...</td>\n",
              "    </tr>\n",
              "    <tr>\n",
              "      <th>1</th>\n",
              "      <td>AZPWAXJG9OJXV</td>\n",
              "      <td>5555991584</td>\n",
              "      <td>bethtexas</td>\n",
              "      <td>5</td>\n",
              "      <td>991526400</td>\n",
              "      <td>2001-06-03</td>\n",
              "      <td>0</td>\n",
              "      <td>0</td>\n",
              "      <td>good</td>\n",
              "      <td>Enya at her most elegant A clasically-styled a...</td>\n",
              "    </tr>\n",
              "    <tr>\n",
              "      <th>2</th>\n",
              "      <td>A38IRL0X2T4DPF</td>\n",
              "      <td>5555991584</td>\n",
              "      <td>bob turnley</td>\n",
              "      <td>5</td>\n",
              "      <td>1058140800</td>\n",
              "      <td>2003-07-14</td>\n",
              "      <td>2</td>\n",
              "      <td>0</td>\n",
              "      <td>good</td>\n",
              "      <td>The best so far I never thought Enya would rea...</td>\n",
              "    </tr>\n",
              "    <tr>\n",
              "      <th>3</th>\n",
              "      <td>A22IK3I6U76GX0</td>\n",
              "      <td>5555991584</td>\n",
              "      <td>Calle</td>\n",
              "      <td>5</td>\n",
              "      <td>957312000</td>\n",
              "      <td>2000-05-03</td>\n",
              "      <td>1</td>\n",
              "      <td>0</td>\n",
              "      <td>good</td>\n",
              "      <td>Ireland produces good music. This is the third...</td>\n",
              "    </tr>\n",
              "    <tr>\n",
              "      <th>4</th>\n",
              "      <td>A1AISPOIIHTHXX</td>\n",
              "      <td>5555991584</td>\n",
              "      <td>Cloud \"...\"</td>\n",
              "      <td>4</td>\n",
              "      <td>1200528000</td>\n",
              "      <td>2008-01-17</td>\n",
              "      <td>1</td>\n",
              "      <td>0</td>\n",
              "      <td>good</td>\n",
              "      <td>4.5; music to dream to Enya, despite being a s...</td>\n",
              "    </tr>\n",
              "  </tbody>\n",
              "</table>\n",
              "</div>"
            ],
            "text/plain": [
              "      Reviewer_ID        asin         Reviewer_Name  Rating  Unix_Review_Time  \\\n",
              "0  A3EBHHCZO6V2A4  5555991584  Amaranth \"music fan\"       5        1158019200   \n",
              "1   AZPWAXJG9OJXV  5555991584             bethtexas       5         991526400   \n",
              "2  A38IRL0X2T4DPF  5555991584           bob turnley       5        1058140800   \n",
              "3  A22IK3I6U76GX0  5555991584                 Calle       5         957312000   \n",
              "4  A1AISPOIIHTHXX  5555991584           Cloud \"...\"       4        1200528000   \n",
              "\n",
              "  Review_Time  Review_Likes  Review_Dislikes Rating_Category  \\\n",
              "0  2006-09-12             3                0            good   \n",
              "1  2001-06-03             0                0            good   \n",
              "2  2003-07-14             2                0            good   \n",
              "3  2000-05-03             1                0            good   \n",
              "4  2008-01-17             1                0            good   \n",
              "\n",
              "                                         review_text  \n",
              "0  Enya's last great album It's hard to believe \"...  \n",
              "1  Enya at her most elegant A clasically-styled a...  \n",
              "2  The best so far I never thought Enya would rea...  \n",
              "3  Ireland produces good music. This is the third...  \n",
              "4  4.5; music to dream to Enya, despite being a s...  "
            ]
          },
          "execution_count": 151,
          "metadata": {},
          "output_type": "execute_result"
        }
      ],
      "source": [
        "# CONCATENATE REVIEWTEXT AND SUMMARY \n",
        "\n",
        "data_review_DM['review_text'] = data_review_DM[['summary', 'Review_Text']].apply(lambda x: \" \".join(str(y) for y in x if str(y) != 'nan'), axis = 1)\n",
        "data_review_DM = data_review_DM.drop(['Review_Text', 'summary'], axis = 1)\n",
        "data_review_DM.head()"
      ]
    },
    {
      "cell_type": "code",
      "execution_count": null,
      "id": "1b009643",
      "metadata": {
        "id": "1b009643"
      },
      "outputs": [],
      "source": [
        "#data_review_DM.to_csv(r'D:/Niit-std(material)/DS1/File-Project/data_review_DM.csv', index = False)"
      ]
    },
    {
      "cell_type": "code",
      "execution_count": null,
      "id": "0e4a1d39",
      "metadata": {
        "id": "0e4a1d39"
      },
      "outputs": [],
      "source": [
        ""
      ]
    },
    {
      "cell_type": "code",
      "execution_count": null,
      "id": "20859920",
      "metadata": {
        "id": "20859920"
      },
      "outputs": [],
      "source": [
        ""
      ]
    },
    {
      "cell_type": "code",
      "execution_count": null,
      "id": "7e807227",
      "metadata": {
        "id": "7e807227"
      },
      "outputs": [],
      "source": [
        ""
      ]
    },
    {
      "cell_type": "code",
      "execution_count": null,
      "id": "11df894b",
      "metadata": {
        "id": "11df894b"
      },
      "outputs": [],
      "source": [
        ""
      ]
    },
    {
      "cell_type": "code",
      "execution_count": null,
      "id": "7c1395f7",
      "metadata": {
        "id": "7c1395f7"
      },
      "outputs": [],
      "source": [
        ""
      ]
    }
  ],
  "metadata": {
    "kernelspec": {
      "display_name": "Python 3",
      "language": "python",
      "name": "python3"
    },
    "language_info": {
      "codemirror_mode": {
        "name": "ipython",
        "version": 3
      },
      "file_extension": ".py",
      "mimetype": "text/x-python",
      "name": "python",
      "nbconvert_exporter": "python",
      "pygments_lexer": "ipython3",
      "version": "3.8.8"
    },
    "colab": {
      "name": "Data_Pre-Processing.ipynb",
      "provenance": []
    }
  },
  "nbformat": 4,
  "nbformat_minor": 5
}